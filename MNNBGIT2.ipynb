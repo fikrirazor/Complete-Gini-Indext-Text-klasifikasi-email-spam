{
 "cells": [
  {
   "cell_type": "markdown",
   "metadata": {},
   "source": [
    "# Implementasi Naıve Bayes dan Gini Index untuk Klasifikasi Email Spam"
   ]
  },
  {
   "cell_type": "markdown",
   "metadata": {},
   "source": [
    "# 1. Insialisasi"
   ]
  },
  {
   "cell_type": "markdown",
   "metadata": {},
   "source": [
    "Memasukan semua modul/library"
   ]
  },
  {
   "cell_type": "code",
   "execution_count": 1,
   "metadata": {},
   "outputs": [],
   "source": [
    "import numpy as np\n",
    "import pandas as pd\n",
    "from sklearn.feature_extraction import DictVectorizer\n",
    "from sklearn.model_selection import KFold\n",
    "import gita as ga\n",
    "import gitb as gb\n",
    "import gitc as gc\n",
    "import mnnb\n",
    "import selectkbestindex as sk\n",
    "import preprocessing\n",
    "import evaluation\n",
    "import matplotlib.pyplot as plt"
   ]
  },
  {
   "cell_type": "code",
   "execution_count": 2,
   "metadata": {},
   "outputs": [],
   "source": [
    "from sklearn.metrics import accuracy_score"
   ]
  },
  {
   "cell_type": "markdown",
   "metadata": {},
   "source": [
    "# 2. Memasukan Dataset"
   ]
  },
  {
   "cell_type": "markdown",
   "metadata": {},
   "source": [
    "Data berupa enron spam Email yang telah diberi label spam dan ham (bukan spam) "
   ]
  },
  {
   "cell_type": "code",
   "execution_count": 3,
   "metadata": {},
   "outputs": [],
   "source": [
    "e6 = pd.read_csv('csv/enron6.csv', encoding='latin-1')\n",
    "e5 = pd.read_csv('csv/enron5.csv', encoding='latin-1')\n",
    "e4 = pd.read_csv('csv/enron4.csv', encoding='latin-1')\n",
    "e3 = pd.read_csv('csv/enron3.csv', encoding='latin-1')\n",
    "e2 = pd.read_csv('csv/enron2.csv', encoding='latin-1')\n",
    "e1 = pd.read_csv('csv/enron1.csv', encoding='latin-1')\n",
    "alldata = pd.concat([e1,e2,e3,e4,e5,e6],ignore_index=True)"
   ]
  },
  {
   "cell_type": "code",
   "execution_count": 6,
   "metadata": {},
   "outputs": [
    {
     "name": "stdout",
     "output_type": "stream",
     "text": [
      "Ukuran data 1  (5172, 2)\n",
      "Ukuran data 2  (5857, 2)\n",
      "Ukuran data 3  (5512, 2)\n",
      "Ukuran data 4  (6000, 2)\n",
      "Ukuran data 5  (5175, 2)\n",
      "Ukuran data 6  (6000, 2)\n"
     ]
    }
   ],
   "source": [
    "print(\"Ukuran data 1 \", e1.shape)\n",
    "print(\"Ukuran data 2 \", e2.shape)\n",
    "print(\"Ukuran data 3 \", e3.shape)\n",
    "print(\"Ukuran data 4 \", e4.shape)\n",
    "print(\"Ukuran data 5 \", e5.shape)\n",
    "print(\"Ukuran data 6 \", e6.shape)"
   ]
  },
  {
   "cell_type": "markdown",
   "metadata": {},
   "source": [
    "Ukuran semua data"
   ]
  },
  {
   "cell_type": "code",
   "execution_count": 7,
   "metadata": {},
   "outputs": [
    {
     "data": {
      "text/plain": [
       "(33716, 2)"
      ]
     },
     "execution_count": 7,
     "metadata": {},
     "output_type": "execute_result"
    }
   ],
   "source": [
    "alldata.shape"
   ]
  },
  {
   "cell_type": "code",
   "execution_count": 21,
   "metadata": {},
   "outputs": [
    {
     "data": {
      "text/html": [
       "<div>\n",
       "<style scoped>\n",
       "    .dataframe tbody tr th:only-of-type {\n",
       "        vertical-align: middle;\n",
       "    }\n",
       "\n",
       "    .dataframe tbody tr th {\n",
       "        vertical-align: top;\n",
       "    }\n",
       "\n",
       "    .dataframe thead th {\n",
       "        text-align: right;\n",
       "    }\n",
       "</style>\n",
       "<table border=\"1\" class=\"dataframe\">\n",
       "  <thead>\n",
       "    <tr style=\"text-align: right;\">\n",
       "      <th></th>\n",
       "      <th>Kelas</th>\n",
       "      <th>Email</th>\n",
       "    </tr>\n",
       "  </thead>\n",
       "  <tbody>\n",
       "    <tr>\n",
       "      <th>0</th>\n",
       "      <td>ham</td>\n",
       "      <td>Subject: christmas tree farm pictures\\n</td>\n",
       "    </tr>\n",
       "    <tr>\n",
       "      <th>1</th>\n",
       "      <td>ham</td>\n",
       "      <td>Subject: vastar resources , inc .\\ngary , prod...</td>\n",
       "    </tr>\n",
       "    <tr>\n",
       "      <th>2</th>\n",
       "      <td>ham</td>\n",
       "      <td>Subject: calpine daily gas nomination\\n- calpi...</td>\n",
       "    </tr>\n",
       "    <tr>\n",
       "      <th>3</th>\n",
       "      <td>ham</td>\n",
       "      <td>Subject: re : issue\\nfyi - see note below - al...</td>\n",
       "    </tr>\n",
       "    <tr>\n",
       "      <th>4</th>\n",
       "      <td>ham</td>\n",
       "      <td>Subject: meter 7268 nov allocation\\nfyi .\\n- -...</td>\n",
       "    </tr>\n",
       "    <tr>\n",
       "      <th>5</th>\n",
       "      <td>ham</td>\n",
       "      <td>Subject: mcmullen gas for 11 / 99\\njackie ,\\ns...</td>\n",
       "    </tr>\n",
       "    <tr>\n",
       "      <th>6</th>\n",
       "      <td>ham</td>\n",
       "      <td>Subject: meter 1517 - jan 1999\\ngeorge ,\\ni ne...</td>\n",
       "    </tr>\n",
       "    <tr>\n",
       "      <th>7</th>\n",
       "      <td>ham</td>\n",
       "      <td>Subject: duns number changes\\nfyi\\n- - - - - -...</td>\n",
       "    </tr>\n",
       "    <tr>\n",
       "      <th>8</th>\n",
       "      <td>ham</td>\n",
       "      <td>Subject: king ranch\\nthere are two fields of g...</td>\n",
       "    </tr>\n",
       "    <tr>\n",
       "      <th>9</th>\n",
       "      <td>ham</td>\n",
       "      <td>Subject: re : entex transistion\\nthanks so muc...</td>\n",
       "    </tr>\n",
       "  </tbody>\n",
       "</table>\n",
       "</div>"
      ],
      "text/plain": [
       "  Kelas                                              Email\n",
       "0   ham            Subject: christmas tree farm pictures\\n\n",
       "1   ham  Subject: vastar resources , inc .\\ngary , prod...\n",
       "2   ham  Subject: calpine daily gas nomination\\n- calpi...\n",
       "3   ham  Subject: re : issue\\nfyi - see note below - al...\n",
       "4   ham  Subject: meter 7268 nov allocation\\nfyi .\\n- -...\n",
       "5   ham  Subject: mcmullen gas for 11 / 99\\njackie ,\\ns...\n",
       "6   ham  Subject: meter 1517 - jan 1999\\ngeorge ,\\ni ne...\n",
       "7   ham  Subject: duns number changes\\nfyi\\n- - - - - -...\n",
       "8   ham  Subject: king ranch\\nthere are two fields of g...\n",
       "9   ham  Subject: re : entex transistion\\nthanks so muc..."
      ]
     },
     "execution_count": 21,
     "metadata": {},
     "output_type": "execute_result"
    }
   ],
   "source": [
    "alldata.head(10)"
   ]
  },
  {
   "cell_type": "markdown",
   "metadata": {},
   "source": [
    "Melihat contoh Email dari data yang ke 5"
   ]
  },
  {
   "cell_type": "code",
   "execution_count": 9,
   "metadata": {},
   "outputs": [
    {
     "name": "stdout",
     "output_type": "stream",
     "text": [
      "Subject: mcmullen gas for 11 / 99\n",
      "jackie ,\n",
      "since the inlet to 3 river plant is shut in on 10 / 19 / 99 ( the last day of\n",
      "flow ) :\n",
      "at what meter is the mcmullen gas being diverted to ?\n",
      "at what meter is hpl buying the residue gas ? ( this is the gas from teco ,\n",
      "vastar , vintage , tejones , and swift )\n",
      "i still see active deals at meter 3405 in path manager for teco , vastar ,\n",
      "vintage , tejones , and swift\n",
      "i also see gas scheduled in pops at meter 3404 and 3405 .\n",
      "please advice . we need to resolve this as soon as possible so settlement\n",
      "can send out payments .\n",
      "thanks\n"
     ]
    }
   ],
   "source": [
    "print(alldata['Email'][5])"
   ]
  },
  {
   "cell_type": "markdown",
   "metadata": {},
   "source": [
    "### Mengetahui perbandingan Email spam dan bukan spam"
   ]
  },
  {
   "cell_type": "code",
   "execution_count": 10,
   "metadata": {},
   "outputs": [
    {
     "data": {
      "text/plain": [
       "spam    17171\n",
       "ham     16545\n",
       "Name: Kelas, dtype: int64"
      ]
     },
     "execution_count": 10,
     "metadata": {},
     "output_type": "execute_result"
    },
    {
     "data": {
      "image/png": "[encoded data removed]",
      "text/plain": [
       "<Figure size 432x288 with 1 Axes>"
      ]
     },
     "metadata": {
      "needs_background": "light"
     },
     "output_type": "display_data"
    }
   ],
   "source": [
    "alldata['Kelas'].value_counts().plot(kind='bar');\n",
    "alldata['Kelas'].value_counts()"
   ]
  },
  {
   "cell_type": "markdown",
   "metadata": {},
   "source": [
    "# 3. Preprocessing"
   ]
  },
  {
   "cell_type": "code",
   "execution_count": 11,
   "metadata": {},
   "outputs": [],
   "source": [
    "X = alldata['Email']\n",
    "y = alldata['Kelas']"
   ]
  },
  {
   "cell_type": "code",
   "execution_count": 26,
   "metadata": {},
   "outputs": [],
   "source": [
    "X = X.astype(str)"
   ]
  },
  {
   "cell_type": "code",
   "execution_count": 12,
   "metadata": {},
   "outputs": [
    {
     "name": "stdout",
     "output_type": "stream",
     "text": [
      "Wall time: 6.89 s\n"
     ]
    }
   ],
   "source": [
    "%%time\n",
    "ps = preprocessing\n",
    "#Xpr = ps.preprocessing(X)\n",
    "Xpr = ps.cleaner(X)"
   ]
  },
  {
   "cell_type": "code",
   "execution_count": 13,
   "metadata": {},
   "outputs": [
    {
     "data": {
      "text/plain": [
       "0                     subject christmas tree farm pictures\n",
       "1        subject vastar resources gary production from ...\n",
       "2        subject calpine daily nomination calpine daily...\n",
       "3        subject issue note below already done stella  ...\n",
       "4        subject meter allocation  forwarded lauri alle...\n",
       "                               ...                        \n",
       "33711    subject  good news edaliss edumm eoggra hello ...\n",
       "33712    subject prescript medicines special precise bu...\n",
       "33713    subject next generation online pharmacy ready ...\n",
       "33714    subject bloow times timelearn last times longe...\n",
       "33715    subject dear interested need some softwares gi...\n",
       "Length: 33716, dtype: object"
      ]
     },
     "execution_count": 13,
     "metadata": {},
     "output_type": "execute_result"
    }
   ],
   "source": [
    "Xpr"
   ]
  },
  {
   "cell_type": "code",
   "execution_count": 14,
   "metadata": {},
   "outputs": [],
   "source": [
    "Xpr = Xpr.replace('enron','', regex=True)\n",
    "Xpr = Xpr.replace('subject','', regex=True)"
   ]
  },
  {
   "cell_type": "code",
   "execution_count": 15,
   "metadata": {},
   "outputs": [
    {
     "name": "stdout",
     "output_type": "stream",
     "text": [
      "Wall time: 1.53 s\n"
     ]
    }
   ],
   "source": [
    "%%time\n",
    "Xpr = ps.tokenisasi(Xpr)"
   ]
  },
  {
   "cell_type": "code",
   "execution_count": 16,
   "metadata": {},
   "outputs": [
    {
     "data": {
      "text/plain": [
       "0                        [christmas, tree, farm, pictures]\n",
       "1        [vastar, resources, gary, production, from, hi...\n",
       "2        [calpine, daily, nomination, calpine, daily, n...\n",
       "3        [issue, note, below, already, done, stella, fo...\n",
       "4        [meter, allocation, forwarded, lauri, allen, k...\n",
       "                               ...                        \n",
       "33711    [good, news, edaliss, edumm, eoggra, hello, we...\n",
       "33712    [prescript, medicines, special, precise, bucks...\n",
       "33713    [next, generation, online, pharmacy, ready, ro...\n",
       "33714    [bloow, times, timelearn, last, times, longer,...\n",
       "33715    [dear, interested, need, some, softwares, give...\n",
       "Length: 33716, dtype: object"
      ]
     },
     "execution_count": 16,
     "metadata": {},
     "output_type": "execute_result"
    }
   ],
   "source": [
    "Xpr"
   ]
  },
  {
   "cell_type": "code",
   "execution_count": 17,
   "metadata": {},
   "outputs": [
    {
     "name": "stdout",
     "output_type": "stream",
     "text": [
      "Wall time: 22.3 s\n"
     ]
    }
   ],
   "source": [
    "%%time\n",
    "Xpr = ps.lemmatizing(Xpr)"
   ]
  },
  {
   "cell_type": "code",
   "execution_count": 18,
   "metadata": {},
   "outputs": [
    {
     "data": {
      "text/plain": [
       "0                         [christmas, tree, farm, picture]\n",
       "1        [vastar, resource, gary, production, from, hig...\n",
       "2        [calpine, daily, nomination, calpine, daily, n...\n",
       "3        [issue, note, below, already, done, stella, fo...\n",
       "4        [meter, allocation, forwarded, lauri, allen, k...\n",
       "                               ...                        \n",
       "33711    [good, news, edaliss, edumm, eoggra, hello, we...\n",
       "33712    [prescript, medicine, special, precise, buck, ...\n",
       "33713    [next, generation, online, pharmacy, ready, ro...\n",
       "33714    [bloow, time, timelearn, last, time, longer, r...\n",
       "33715    [dear, interested, need, some, software, give,...\n",
       "Length: 33716, dtype: object"
      ]
     },
     "execution_count": 18,
     "metadata": {},
     "output_type": "execute_result"
    }
   ],
   "source": [
    "Xpr"
   ]
  },
  {
   "cell_type": "code",
   "execution_count": 19,
   "metadata": {},
   "outputs": [
    {
     "name": "stdout",
     "output_type": "stream",
     "text": [
      "Wall time: 529 ms\n"
     ]
    }
   ],
   "source": [
    "%%time\n",
    "Xpr = ps.stopwordsremove(Xpr)"
   ]
  },
  {
   "cell_type": "code",
   "execution_count": 20,
   "metadata": {},
   "outputs": [
    {
     "data": {
      "text/plain": [
       "0                         [christmas, tree, farm, picture]\n",
       "1        [vastar, resource, gary, production, high, isl...\n",
       "2        [calpine, daily, nomination, calpine, daily, n...\n",
       "3        [issue, note, already, done, stella, forwarded...\n",
       "4        [meter, allocation, forwarded, lauri, allen, k...\n",
       "                               ...                        \n",
       "33711    [good, news, edaliss, edumm, eoggra, hello, we...\n",
       "33712    [prescript, medicine, special, precise, buck, ...\n",
       "33713    [next, generation, online, pharmacy, ready, ro...\n",
       "33714    [bloow, time, timelearn, last, time, longer, r...\n",
       "33715    [dear, interested, need, software, give, link,...\n",
       "Length: 33716, dtype: object"
      ]
     },
     "execution_count": 20,
     "metadata": {},
     "output_type": "execute_result"
    }
   ],
   "source": [
    "Xpr"
   ]
  },
  {
   "cell_type": "code",
   "execution_count": 21,
   "metadata": {},
   "outputs": [
    {
     "name": "stdout",
     "output_type": "stream",
     "text": [
      "Wall time: 1min 36s\n"
     ]
    }
   ],
   "source": [
    "%%time\n",
    "Xpr = ps.stemming(Xpr)"
   ]
  },
  {
   "cell_type": "code",
   "execution_count": 22,
   "metadata": {},
   "outputs": [
    {
     "data": {
      "text/plain": [
       "0                           [christma, tree, farm, pictur]\n",
       "1        [vastar, resourc, gari, product, high, island,...\n",
       "2             [calpin, daili, nomin, calpin, daili, nomin]\n",
       "3        [issu, note, alreadi, done, stella, forward, s...\n",
       "4        [meter, alloc, forward, lauri, allen, kimberli...\n",
       "                               ...                        \n",
       "33711    [good, news, edaliss, edumm, eoggra, hello, we...\n",
       "33712    [prescript, medicin, special, precis, buck, ba...\n",
       "33713    [next, gener, onlin, pharmaci, readi, rock, ri...\n",
       "33714    [bloow, time, timelearn, last, time, longer, r...\n",
       "33715    [dear, interest, need, softwar, give, link, ht...\n",
       "Length: 33716, dtype: object"
      ]
     },
     "execution_count": 22,
     "metadata": {},
     "output_type": "execute_result"
    }
   ],
   "source": [
    "Xpr"
   ]
  },
  {
   "cell_type": "code",
   "execution_count": 23,
   "metadata": {},
   "outputs": [],
   "source": [
    "spam = Xpr[y == 'spam']\n",
    "ham = Xpr[y == 'ham']"
   ]
  },
  {
   "cell_type": "code",
   "execution_count": 24,
   "metadata": {},
   "outputs": [
    {
     "data": {
      "text/plain": [
       "3672    [dobmeo, energi, level, gone, stukmintroducing...\n",
       "3673    [prescript, readi, oxwq, cost, prescript, medi...\n",
       "3674    [peopl, nowth, weather, climat, particular, en...\n",
       "3675    [await, responsedear, partner, team, govern, o...\n",
       "3676    [coca, cola, mbna, america, nascar, partner, o...\n",
       "3677    [emerg, small, exit, addit, mail, press, zupym...\n",
       "3678    [patch, work, better, pillzworld, first, derma...\n",
       "3679    [paliourg, udtih, wcwknoanopktgood, morn, pali...\n",
       "3680    [real, product, real, peopl, dont, wast, time,...\n",
       "3681    [ter, yhvqbvdboevkcdbriababhdpr, frdjvdbesk, c...\n",
       "dtype: object"
      ]
     },
     "execution_count": 24,
     "metadata": {},
     "output_type": "execute_result"
    }
   ],
   "source": [
    "spam.head(10)"
   ]
  },
  {
   "cell_type": "code",
   "execution_count": 25,
   "metadata": {},
   "outputs": [],
   "source": [
    "spam_words = pd.Series(' '.join(spam.astype(str)).lower().split(\"', '\")).value_counts()[:20]\n",
    "ham_words = pd.Series(' '.join(ham.astype(str)).lower().split(\"', '\")).value_counts()[:20]"
   ]
  },
  {
   "cell_type": "code",
   "execution_count": 26,
   "metadata": {
    "scrolled": true
   },
   "outputs": [
    {
     "data": {
      "text/plain": [
       "<AxesSubplot:>"
      ]
     },
     "execution_count": 26,
     "metadata": {},
     "output_type": "execute_result"
    },
    {
     "data": {
      "image/png": "[encoded data removed]",
      "text/plain": [
       "<Figure size 432x288 with 1 Axes>"
      ]
     },
     "metadata": {
      "needs_background": "light"
     },
     "output_type": "display_data"
    }
   ],
   "source": [
    "spam_words.plot(kind='bar',stacked=True, colormap='plasma')"
   ]
  },
  {
   "cell_type": "code",
   "execution_count": 27,
   "metadata": {},
   "outputs": [
    {
     "data": {
      "text/plain": [
       "<AxesSubplot:>"
      ]
     },
     "execution_count": 27,
     "metadata": {},
     "output_type": "execute_result"
    },
    {
     "data": {
      "image/png": "[encoded data removed]",
      "text/plain": [
       "<Figure size 432x288 with 1 Axes>"
      ]
     },
     "metadata": {
      "needs_background": "light"
     },
     "output_type": "display_data"
    }
   ],
   "source": [
    "ham_words.plot(kind='bar',stacked=True, colormap='RdGy')"
   ]
  },
  {
   "cell_type": "code",
   "execution_count": 28,
   "metadata": {},
   "outputs": [],
   "source": [
    "X_term = ps.document_term_freq(Xpr)"
   ]
  },
  {
   "cell_type": "code",
   "execution_count": 29,
   "metadata": {},
   "outputs": [],
   "source": [
    "v = DictVectorizer()\n",
    "X = v.fit_transform(X_term)\n",
    "bb = v.get_feature_names()\n",
    "y = y.values"
   ]
  },
  {
   "cell_type": "code",
   "execution_count": 30,
   "metadata": {},
   "outputs": [
    {
     "data": {
      "text/plain": [
       "(33716, 182814)"
      ]
     },
     "execution_count": 30,
     "metadata": {},
     "output_type": "execute_result"
    }
   ],
   "source": [
    "X.shape"
   ]
  },
  {
   "cell_type": "code",
   "execution_count": 31,
   "metadata": {},
   "outputs": [
    {
     "data": {
      "text/plain": [
       "182814"
      ]
     },
     "execution_count": 31,
     "metadata": {},
     "output_type": "execute_result"
    }
   ],
   "source": [
    "len(X[1, :].toarray()[0])"
   ]
  },
  {
   "cell_type": "markdown",
   "metadata": {},
   "source": [
    "# 4. Fitur Seleksi dan Klasifikasi dengan MNNB\n",
    "Fitur Seleksi yang duganakan menggunakan fitur seleksi [Complete Gini Index Text](https://ieeexplore.ieee.org/document/5542893/)"
   ]
  },
  {
   "cell_type": "code",
   "execution_count": 32,
   "metadata": {},
   "outputs": [],
   "source": [
    "bf = 80000\n",
    "SK = sk.selectkbestindex(k=bf)"
   ]
  },
  {
   "cell_type": "code",
   "execution_count": 33,
   "metadata": {},
   "outputs": [
    {
     "data": {
      "text/plain": [
       "(33716, 80000)"
      ]
     },
     "execution_count": 33,
     "metadata": {},
     "output_type": "execute_result"
    }
   ],
   "source": [
    "GT = ga.gita(alpha=0)\n",
    "gita = GT.fit(X,y)\n",
    "indices = SK.get(gita)\n",
    "XGITA = X[:, indices]\n",
    "XGITA.shape"
   ]
  },
  {
   "cell_type": "code",
   "execution_count": 34,
   "metadata": {},
   "outputs": [
    {
     "data": {
      "text/plain": [
       "array([0., 0., 0., ..., 0., 0., 0.])"
      ]
     },
     "execution_count": 34,
     "metadata": {},
     "output_type": "execute_result"
    }
   ],
   "source": [
    "gita[0]"
   ]
  },
  {
   "cell_type": "code",
   "execution_count": 35,
   "metadata": {},
   "outputs": [
    {
     "data": {
      "text/plain": [
       "list"
      ]
     },
     "execution_count": 35,
     "metadata": {},
     "output_type": "execute_result"
    }
   ],
   "source": [
    "type(bb)"
   ]
  },
  {
   "cell_type": "code",
   "execution_count": 36,
   "metadata": {},
   "outputs": [],
   "source": [
    "nama = pd.DataFrame(bb)\n",
    "gitapos = pd.DataFrame(gita[0])\n",
    "gitaposjoin = pd.concat([nama, gitapos], axis=1, join='inner')"
   ]
  },
  {
   "cell_type": "code",
   "execution_count": 37,
   "metadata": {},
   "outputs": [],
   "source": [
    "gitaposjoin.columns = ['fitur', 'score']"
   ]
  },
  {
   "cell_type": "code",
   "execution_count": 38,
   "metadata": {},
   "outputs": [
    {
     "data": {
      "text/html": [
       "<div>\n",
       "<style scoped>\n",
       "    .dataframe tbody tr th:only-of-type {\n",
       "        vertical-align: middle;\n",
       "    }\n",
       "\n",
       "    .dataframe tbody tr th {\n",
       "        vertical-align: top;\n",
       "    }\n",
       "\n",
       "    .dataframe thead th {\n",
       "        text-align: right;\n",
       "    }\n",
       "</style>\n",
       "<table border=\"1\" class=\"dataframe\">\n",
       "  <thead>\n",
       "    <tr style=\"text-align: right;\">\n",
       "      <th></th>\n",
       "      <th>fitur</th>\n",
       "      <th>score</th>\n",
       "    </tr>\n",
       "  </thead>\n",
       "  <tbody>\n",
       "    <tr>\n",
       "      <th>57255</th>\n",
       "      <td>firmnatur</td>\n",
       "      <td>0.25</td>\n",
       "    </tr>\n",
       "    <tr>\n",
       "      <th>152587</th>\n",
       "      <td>suggesthav</td>\n",
       "      <td>0.25</td>\n",
       "    </tr>\n",
       "    <tr>\n",
       "      <th>51049</th>\n",
       "      <td>equestlnm</td>\n",
       "      <td>0.25</td>\n",
       "    </tr>\n",
       "    <tr>\n",
       "      <th>51046</th>\n",
       "      <td>equationrefer</td>\n",
       "      <td>0.25</td>\n",
       "    </tr>\n",
       "    <tr>\n",
       "      <th>152583</th>\n",
       "      <td>suggestbegin</td>\n",
       "      <td>0.25</td>\n",
       "    </tr>\n",
       "    <tr>\n",
       "      <th>152584</th>\n",
       "      <td>suggestedincent</td>\n",
       "      <td>0.25</td>\n",
       "    </tr>\n",
       "    <tr>\n",
       "      <th>152585</th>\n",
       "      <td>suggestedonc</td>\n",
       "      <td>0.25</td>\n",
       "    </tr>\n",
       "    <tr>\n",
       "      <th>152586</th>\n",
       "      <td>suggestedthat</td>\n",
       "      <td>0.25</td>\n",
       "    </tr>\n",
       "    <tr>\n",
       "      <th>51039</th>\n",
       "      <td>equallyimport</td>\n",
       "      <td>0.25</td>\n",
       "    </tr>\n",
       "    <tr>\n",
       "      <th>51543</th>\n",
       "      <td>esay</td>\n",
       "      <td>0.25</td>\n",
       "    </tr>\n",
       "    <tr>\n",
       "      <th>152588</th>\n",
       "      <td>suggestionscontact</td>\n",
       "      <td>0.25</td>\n",
       "    </tr>\n",
       "    <tr>\n",
       "      <th>152589</th>\n",
       "      <td>suggestionsregard</td>\n",
       "      <td>0.25</td>\n",
       "    </tr>\n",
       "    <tr>\n",
       "      <th>152590</th>\n",
       "      <td>suggestionssorri</td>\n",
       "      <td>0.25</td>\n",
       "    </tr>\n",
       "    <tr>\n",
       "      <th>51035</th>\n",
       "      <td>equallyappal</td>\n",
       "      <td>0.25</td>\n",
       "    </tr>\n",
       "    <tr>\n",
       "      <th>152591</th>\n",
       "      <td>suggestionsthank</td>\n",
       "      <td>0.25</td>\n",
       "    </tr>\n",
       "    <tr>\n",
       "      <th>152592</th>\n",
       "      <td>suggestionswer</td>\n",
       "      <td>0.25</td>\n",
       "    </tr>\n",
       "    <tr>\n",
       "      <th>152581</th>\n",
       "      <td>sugg</td>\n",
       "      <td>0.25</td>\n",
       "    </tr>\n",
       "    <tr>\n",
       "      <th>96497</th>\n",
       "      <td>markwest</td>\n",
       "      <td>0.25</td>\n",
       "    </tr>\n",
       "    <tr>\n",
       "      <th>51052</th>\n",
       "      <td>equico</td>\n",
       "      <td>0.25</td>\n",
       "    </tr>\n",
       "    <tr>\n",
       "      <th>96496</th>\n",
       "      <td>markwartravi</td>\n",
       "      <td>0.25</td>\n",
       "    </tr>\n",
       "  </tbody>\n",
       "</table>\n",
       "</div>"
      ],
      "text/plain": [
       "                     fitur  score\n",
       "57255            firmnatur   0.25\n",
       "152587          suggesthav   0.25\n",
       "51049            equestlnm   0.25\n",
       "51046        equationrefer   0.25\n",
       "152583        suggestbegin   0.25\n",
       "152584     suggestedincent   0.25\n",
       "152585        suggestedonc   0.25\n",
       "152586       suggestedthat   0.25\n",
       "51039        equallyimport   0.25\n",
       "51543                 esay   0.25\n",
       "152588  suggestionscontact   0.25\n",
       "152589   suggestionsregard   0.25\n",
       "152590    suggestionssorri   0.25\n",
       "51035         equallyappal   0.25\n",
       "152591    suggestionsthank   0.25\n",
       "152592      suggestionswer   0.25\n",
       "152581                sugg   0.25\n",
       "96497             markwest   0.25\n",
       "51052               equico   0.25\n",
       "96496         markwartravi   0.25"
      ]
     },
     "execution_count": 38,
     "metadata": {},
     "output_type": "execute_result"
    }
   ],
   "source": [
    "gitascorepos = gitaposjoin.sort_values(['score'],ascending=False)\n",
    "gitascorepos[:20]"
   ]
  },
  {
   "cell_type": "code",
   "execution_count": 39,
   "metadata": {},
   "outputs": [
    {
     "data": {
      "text/html": [
       "<div>\n",
       "<style scoped>\n",
       "    .dataframe tbody tr th:only-of-type {\n",
       "        vertical-align: middle;\n",
       "    }\n",
       "\n",
       "    .dataframe tbody tr th {\n",
       "        vertical-align: top;\n",
       "    }\n",
       "\n",
       "    .dataframe thead th {\n",
       "        text-align: right;\n",
       "    }\n",
       "</style>\n",
       "<table border=\"1\" class=\"dataframe\">\n",
       "  <thead>\n",
       "    <tr style=\"text-align: right;\">\n",
       "      <th></th>\n",
       "      <th>fitur</th>\n",
       "      <th>score</th>\n",
       "    </tr>\n",
       "  </thead>\n",
       "  <tbody>\n",
       "    <tr>\n",
       "      <th>0</th>\n",
       "      <td>aaa</td>\n",
       "      <td>0.25</td>\n",
       "    </tr>\n",
       "    <tr>\n",
       "      <th>105789</th>\n",
       "      <td>nbtnsbpa</td>\n",
       "      <td>0.25</td>\n",
       "    </tr>\n",
       "    <tr>\n",
       "      <th>105787</th>\n",
       "      <td>nbtalbslz</td>\n",
       "      <td>0.25</td>\n",
       "    </tr>\n",
       "    <tr>\n",
       "      <th>105785</th>\n",
       "      <td>nbsp</td>\n",
       "      <td>0.25</td>\n",
       "    </tr>\n",
       "    <tr>\n",
       "      <th>105783</th>\n",
       "      <td>nbrxfg</td>\n",
       "      <td>0.25</td>\n",
       "    </tr>\n",
       "    <tr>\n",
       "      <th>105782</th>\n",
       "      <td>nbrrhwfsmbrvabqhkxwb</td>\n",
       "      <td>0.25</td>\n",
       "    </tr>\n",
       "    <tr>\n",
       "      <th>105781</th>\n",
       "      <td>nbrrabpd</td>\n",
       "      <td>0.25</td>\n",
       "    </tr>\n",
       "    <tr>\n",
       "      <th>105778</th>\n",
       "      <td>nbox</td>\n",
       "      <td>0.25</td>\n",
       "    </tr>\n",
       "    <tr>\n",
       "      <th>105777</th>\n",
       "      <td>nbotiofi</td>\n",
       "      <td>0.25</td>\n",
       "    </tr>\n",
       "    <tr>\n",
       "      <th>105776</th>\n",
       "      <td>nbnd</td>\n",
       "      <td>0.25</td>\n",
       "    </tr>\n",
       "    <tr>\n",
       "      <th>105775</th>\n",
       "      <td>nbmet</td>\n",
       "      <td>0.25</td>\n",
       "    </tr>\n",
       "    <tr>\n",
       "      <th>105774</th>\n",
       "      <td>nblljd</td>\n",
       "      <td>0.25</td>\n",
       "    </tr>\n",
       "    <tr>\n",
       "      <th>105773</th>\n",
       "      <td>nbkyuevn</td>\n",
       "      <td>0.25</td>\n",
       "    </tr>\n",
       "    <tr>\n",
       "      <th>105772</th>\n",
       "      <td>nbjrsm</td>\n",
       "      <td>0.25</td>\n",
       "    </tr>\n",
       "    <tr>\n",
       "      <th>105771</th>\n",
       "      <td>nbibb</td>\n",
       "      <td>0.25</td>\n",
       "    </tr>\n",
       "    <tr>\n",
       "      <th>105770</th>\n",
       "      <td>nbhf</td>\n",
       "      <td>0.25</td>\n",
       "    </tr>\n",
       "    <tr>\n",
       "      <th>105769</th>\n",
       "      <td>nbgjzvyof</td>\n",
       "      <td>0.25</td>\n",
       "    </tr>\n",
       "    <tr>\n",
       "      <th>105768</th>\n",
       "      <td>nbgeh</td>\n",
       "      <td>0.25</td>\n",
       "    </tr>\n",
       "    <tr>\n",
       "      <th>105767</th>\n",
       "      <td>nbff</td>\n",
       "      <td>0.25</td>\n",
       "    </tr>\n",
       "    <tr>\n",
       "      <th>105765</th>\n",
       "      <td>nbcdiw</td>\n",
       "      <td>0.25</td>\n",
       "    </tr>\n",
       "  </tbody>\n",
       "</table>\n",
       "</div>"
      ],
      "text/plain": [
       "                       fitur  score\n",
       "0                        aaa   0.25\n",
       "105789              nbtnsbpa   0.25\n",
       "105787             nbtalbslz   0.25\n",
       "105785                  nbsp   0.25\n",
       "105783                nbrxfg   0.25\n",
       "105782  nbrrhwfsmbrvabqhkxwb   0.25\n",
       "105781              nbrrabpd   0.25\n",
       "105778                  nbox   0.25\n",
       "105777              nbotiofi   0.25\n",
       "105776                  nbnd   0.25\n",
       "105775                 nbmet   0.25\n",
       "105774                nblljd   0.25\n",
       "105773              nbkyuevn   0.25\n",
       "105772                nbjrsm   0.25\n",
       "105771                 nbibb   0.25\n",
       "105770                  nbhf   0.25\n",
       "105769             nbgjzvyof   0.25\n",
       "105768                 nbgeh   0.25\n",
       "105767                  nbff   0.25\n",
       "105765                nbcdiw   0.25"
      ]
     },
     "execution_count": 39,
     "metadata": {},
     "output_type": "execute_result"
    }
   ],
   "source": [
    "gitaneg = pd.DataFrame(gita[1])\n",
    "gitanegjoin = pd.concat([nama, gitaneg], axis=1, join='inner')\n",
    "gitanegjoin.columns = ['fitur', 'score']\n",
    "gitascoreneg = gitanegjoin.sort_values(['score'],ascending=False)\n",
    "gitascoreneg[:20]"
   ]
  },
  {
   "cell_type": "code",
   "execution_count": 40,
   "metadata": {},
   "outputs": [
    {
     "data": {
      "text/plain": [
       "(33716, 80000)"
      ]
     },
     "execution_count": 40,
     "metadata": {},
     "output_type": "execute_result"
    }
   ],
   "source": [
    "GT = gb.gitb(alpha=0.5)\n",
    "gitb = GT.fit(X,y)\n",
    "indices = SK.get(gitb)\n",
    "XGITB = X[:, indices]\n",
    "XGITB.shape"
   ]
  },
  {
   "cell_type": "code",
   "execution_count": 41,
   "metadata": {},
   "outputs": [
    {
     "data": {
      "text/html": [
       "<div>\n",
       "<style scoped>\n",
       "    .dataframe tbody tr th:only-of-type {\n",
       "        vertical-align: middle;\n",
       "    }\n",
       "\n",
       "    .dataframe tbody tr th {\n",
       "        vertical-align: top;\n",
       "    }\n",
       "\n",
       "    .dataframe thead th {\n",
       "        text-align: right;\n",
       "    }\n",
       "</style>\n",
       "<table border=\"1\" class=\"dataframe\">\n",
       "  <thead>\n",
       "    <tr style=\"text-align: right;\">\n",
       "      <th></th>\n",
       "      <th>fitur</th>\n",
       "      <th>score</th>\n",
       "    </tr>\n",
       "  </thead>\n",
       "  <tbody>\n",
       "    <tr>\n",
       "      <th>92580</th>\n",
       "      <td>losemoney</td>\n",
       "      <td>0.183673</td>\n",
       "    </tr>\n",
       "    <tr>\n",
       "      <th>104728</th>\n",
       "      <td>mwage</td>\n",
       "      <td>0.183673</td>\n",
       "    </tr>\n",
       "    <tr>\n",
       "      <th>145787</th>\n",
       "      <td>sladana</td>\n",
       "      <td>0.183673</td>\n",
       "    </tr>\n",
       "    <tr>\n",
       "      <th>145786</th>\n",
       "      <td>slackthat</td>\n",
       "      <td>0.183673</td>\n",
       "    </tr>\n",
       "    <tr>\n",
       "      <th>145777</th>\n",
       "      <td>slaboszewicz</td>\n",
       "      <td>0.183673</td>\n",
       "    </tr>\n",
       "    <tr>\n",
       "      <th>145754</th>\n",
       "      <td>skymind</td>\n",
       "      <td>0.183673</td>\n",
       "    </tr>\n",
       "    <tr>\n",
       "      <th>145745</th>\n",
       "      <td>skylab</td>\n",
       "      <td>0.183673</td>\n",
       "    </tr>\n",
       "    <tr>\n",
       "      <th>79353</th>\n",
       "      <td>invaluableasset</td>\n",
       "      <td>0.183673</td>\n",
       "    </tr>\n",
       "    <tr>\n",
       "      <th>145738</th>\n",
       "      <td>skydivespaceland</td>\n",
       "      <td>0.183673</td>\n",
       "    </tr>\n",
       "    <tr>\n",
       "      <th>38557</th>\n",
       "      <td>debatedynegi</td>\n",
       "      <td>0.183673</td>\n",
       "    </tr>\n",
       "    <tr>\n",
       "      <th>38558</th>\n",
       "      <td>debaterefund</td>\n",
       "      <td>0.183673</td>\n",
       "    </tr>\n",
       "    <tr>\n",
       "      <th>38566</th>\n",
       "      <td>debbiebrackett</td>\n",
       "      <td>0.183673</td>\n",
       "    </tr>\n",
       "    <tr>\n",
       "      <th>104733</th>\n",
       "      <td>mwbdcalvin</td>\n",
       "      <td>0.183673</td>\n",
       "    </tr>\n",
       "    <tr>\n",
       "      <th>145728</th>\n",
       "      <td>skutchin</td>\n",
       "      <td>0.183673</td>\n",
       "    </tr>\n",
       "    <tr>\n",
       "      <th>38569</th>\n",
       "      <td>debbienichol</td>\n",
       "      <td>0.183673</td>\n",
       "    </tr>\n",
       "    <tr>\n",
       "      <th>38570</th>\n",
       "      <td>debbiet</td>\n",
       "      <td>0.183673</td>\n",
       "    </tr>\n",
       "    <tr>\n",
       "      <th>38571</th>\n",
       "      <td>debbiethompson</td>\n",
       "      <td>0.183673</td>\n",
       "    </tr>\n",
       "    <tr>\n",
       "      <th>38572</th>\n",
       "      <td>debbiew</td>\n",
       "      <td>0.183673</td>\n",
       "    </tr>\n",
       "    <tr>\n",
       "      <th>145727</th>\n",
       "      <td>skurdahl</td>\n",
       "      <td>0.183673</td>\n",
       "    </tr>\n",
       "    <tr>\n",
       "      <th>145725</th>\n",
       "      <td>skupil</td>\n",
       "      <td>0.183673</td>\n",
       "    </tr>\n",
       "  </tbody>\n",
       "</table>\n",
       "</div>"
      ],
      "text/plain": [
       "                   fitur     score\n",
       "92580          losemoney  0.183673\n",
       "104728             mwage  0.183673\n",
       "145787           sladana  0.183673\n",
       "145786         slackthat  0.183673\n",
       "145777      slaboszewicz  0.183673\n",
       "145754           skymind  0.183673\n",
       "145745            skylab  0.183673\n",
       "79353    invaluableasset  0.183673\n",
       "145738  skydivespaceland  0.183673\n",
       "38557       debatedynegi  0.183673\n",
       "38558       debaterefund  0.183673\n",
       "38566     debbiebrackett  0.183673\n",
       "104733        mwbdcalvin  0.183673\n",
       "145728          skutchin  0.183673\n",
       "38569       debbienichol  0.183673\n",
       "38570            debbiet  0.183673\n",
       "38571     debbiethompson  0.183673\n",
       "38572            debbiew  0.183673\n",
       "145727          skurdahl  0.183673\n",
       "145725            skupil  0.183673"
      ]
     },
     "execution_count": 41,
     "metadata": {},
     "output_type": "execute_result"
    }
   ],
   "source": [
    "gitbpos = pd.DataFrame(gitb[0])\n",
    "gitbposjoin = pd.concat([nama, gitbpos], axis=1, join='inner')\n",
    "gitbposjoin.columns = ['fitur', 'score']\n",
    "gitbscorepos = gitbposjoin.sort_values(['score'],ascending=False)\n",
    "gitbscorepos[:20]"
   ]
  },
  {
   "cell_type": "code",
   "execution_count": 42,
   "metadata": {},
   "outputs": [
    {
     "data": {
      "text/html": [
       "<div>\n",
       "<style scoped>\n",
       "    .dataframe tbody tr th:only-of-type {\n",
       "        vertical-align: middle;\n",
       "    }\n",
       "\n",
       "    .dataframe tbody tr th {\n",
       "        vertical-align: top;\n",
       "    }\n",
       "\n",
       "    .dataframe thead th {\n",
       "        text-align: right;\n",
       "    }\n",
       "</style>\n",
       "<table border=\"1\" class=\"dataframe\">\n",
       "  <thead>\n",
       "    <tr style=\"text-align: right;\">\n",
       "      <th></th>\n",
       "      <th>fitur</th>\n",
       "      <th>score</th>\n",
       "    </tr>\n",
       "  </thead>\n",
       "  <tbody>\n",
       "    <tr>\n",
       "      <th>91407</th>\n",
       "      <td>lkef</td>\n",
       "      <td>0.183673</td>\n",
       "    </tr>\n",
       "    <tr>\n",
       "      <th>91597</th>\n",
       "      <td>lmogen</td>\n",
       "      <td>0.183673</td>\n",
       "    </tr>\n",
       "    <tr>\n",
       "      <th>91610</th>\n",
       "      <td>lmsxfr</td>\n",
       "      <td>0.183673</td>\n",
       "    </tr>\n",
       "    <tr>\n",
       "      <th>91608</th>\n",
       "      <td>lmrtnhlr</td>\n",
       "      <td>0.183673</td>\n",
       "    </tr>\n",
       "    <tr>\n",
       "      <th>91607</th>\n",
       "      <td>lmrheiu</td>\n",
       "      <td>0.183673</td>\n",
       "    </tr>\n",
       "    <tr>\n",
       "      <th>91606</th>\n",
       "      <td>lmpotenc</td>\n",
       "      <td>0.183673</td>\n",
       "    </tr>\n",
       "    <tr>\n",
       "      <th>91605</th>\n",
       "      <td>lmpkkw</td>\n",
       "      <td>0.183673</td>\n",
       "    </tr>\n",
       "    <tr>\n",
       "      <th>91602</th>\n",
       "      <td>lmoz</td>\n",
       "      <td>0.183673</td>\n",
       "    </tr>\n",
       "    <tr>\n",
       "      <th>91601</th>\n",
       "      <td>lmou</td>\n",
       "      <td>0.183673</td>\n",
       "    </tr>\n",
       "    <tr>\n",
       "      <th>91600</th>\n",
       "      <td>lmotion</td>\n",
       "      <td>0.183673</td>\n",
       "    </tr>\n",
       "    <tr>\n",
       "      <th>91599</th>\n",
       "      <td>lmort</td>\n",
       "      <td>0.183673</td>\n",
       "    </tr>\n",
       "    <tr>\n",
       "      <th>91594</th>\n",
       "      <td>lmkech</td>\n",
       "      <td>0.183673</td>\n",
       "    </tr>\n",
       "    <tr>\n",
       "      <th>91643</th>\n",
       "      <td>lnegor</td>\n",
       "      <td>0.183673</td>\n",
       "    </tr>\n",
       "    <tr>\n",
       "      <th>91593</th>\n",
       "      <td>lmkbmpnd</td>\n",
       "      <td>0.183673</td>\n",
       "    </tr>\n",
       "    <tr>\n",
       "      <th>91592</th>\n",
       "      <td>lmjwawhzlant</td>\n",
       "      <td>0.183673</td>\n",
       "    </tr>\n",
       "    <tr>\n",
       "      <th>91590</th>\n",
       "      <td>lminatin</td>\n",
       "      <td>0.183673</td>\n",
       "    </tr>\n",
       "    <tr>\n",
       "      <th>91589</th>\n",
       "      <td>lmia</td>\n",
       "      <td>0.183673</td>\n",
       "    </tr>\n",
       "    <tr>\n",
       "      <th>91587</th>\n",
       "      <td>lmhndnqul</td>\n",
       "      <td>0.183673</td>\n",
       "    </tr>\n",
       "    <tr>\n",
       "      <th>91586</th>\n",
       "      <td>lmhehsbxg</td>\n",
       "      <td>0.183673</td>\n",
       "    </tr>\n",
       "    <tr>\n",
       "      <th>91585</th>\n",
       "      <td>lmfuiwr</td>\n",
       "      <td>0.183673</td>\n",
       "    </tr>\n",
       "  </tbody>\n",
       "</table>\n",
       "</div>"
      ],
      "text/plain": [
       "              fitur     score\n",
       "91407          lkef  0.183673\n",
       "91597        lmogen  0.183673\n",
       "91610        lmsxfr  0.183673\n",
       "91608      lmrtnhlr  0.183673\n",
       "91607       lmrheiu  0.183673\n",
       "91606      lmpotenc  0.183673\n",
       "91605        lmpkkw  0.183673\n",
       "91602          lmoz  0.183673\n",
       "91601          lmou  0.183673\n",
       "91600       lmotion  0.183673\n",
       "91599         lmort  0.183673\n",
       "91594        lmkech  0.183673\n",
       "91643        lnegor  0.183673\n",
       "91593      lmkbmpnd  0.183673\n",
       "91592  lmjwawhzlant  0.183673\n",
       "91590      lminatin  0.183673\n",
       "91589          lmia  0.183673\n",
       "91587     lmhndnqul  0.183673\n",
       "91586     lmhehsbxg  0.183673\n",
       "91585       lmfuiwr  0.183673"
      ]
     },
     "execution_count": 42,
     "metadata": {},
     "output_type": "execute_result"
    }
   ],
   "source": [
    "gitbneg = pd.DataFrame(gitb[1])\n",
    "gitbnegjoin = pd.concat([nama, gitbneg], axis=1, join='inner')\n",
    "gitbnegjoin.columns = ['fitur', 'score']\n",
    "gitbscoreneg = gitbnegjoin.sort_values(['score'],ascending=False)\n",
    "gitbscoreneg[:20]"
   ]
  },
  {
   "cell_type": "code",
   "execution_count": 43,
   "metadata": {},
   "outputs": [
    {
     "data": {
      "text/plain": [
       "(33716, 80000)"
      ]
     },
     "execution_count": 43,
     "metadata": {},
     "output_type": "execute_result"
    }
   ],
   "source": [
    "GT = gc.gitc(alpha=0.5)\n",
    "gitc = GT.fit(X,y)\n",
    "indices = SK.get(gitc)\n",
    "XGITC = X[:, indices]\n",
    "XGITC.shape"
   ]
  },
  {
   "cell_type": "code",
   "execution_count": 44,
   "metadata": {},
   "outputs": [
    {
     "data": {
      "text/html": [
       "<div>\n",
       "<style scoped>\n",
       "    .dataframe tbody tr th:only-of-type {\n",
       "        vertical-align: middle;\n",
       "    }\n",
       "\n",
       "    .dataframe tbody tr th {\n",
       "        vertical-align: top;\n",
       "    }\n",
       "\n",
       "    .dataframe thead th {\n",
       "        text-align: right;\n",
       "    }\n",
       "</style>\n",
       "<table border=\"1\" class=\"dataframe\">\n",
       "  <thead>\n",
       "    <tr style=\"text-align: right;\">\n",
       "      <th></th>\n",
       "      <th>fitur</th>\n",
       "      <th>score</th>\n",
       "    </tr>\n",
       "  </thead>\n",
       "  <tbody>\n",
       "    <tr>\n",
       "      <th>46137</th>\n",
       "      <td>dynegi</td>\n",
       "      <td>0.124977</td>\n",
       "    </tr>\n",
       "    <tr>\n",
       "      <th>84096</th>\n",
       "      <td>kaminski</td>\n",
       "      <td>0.124977</td>\n",
       "    </tr>\n",
       "    <tr>\n",
       "      <th>101540</th>\n",
       "      <td>mmbtu</td>\n",
       "      <td>0.124950</td>\n",
       "    </tr>\n",
       "    <tr>\n",
       "      <th>38076</th>\n",
       "      <td>dbcap</td>\n",
       "      <td>0.124947</td>\n",
       "    </tr>\n",
       "    <tr>\n",
       "      <th>72531</th>\n",
       "      <td>hourahead</td>\n",
       "      <td>0.124938</td>\n",
       "    </tr>\n",
       "    <tr>\n",
       "      <th>55176</th>\n",
       "      <td>fastow</td>\n",
       "      <td>0.124923</td>\n",
       "    </tr>\n",
       "    <tr>\n",
       "      <th>178595</th>\n",
       "      <td>xgate</td>\n",
       "      <td>0.124919</td>\n",
       "    </tr>\n",
       "    <tr>\n",
       "      <th>55887</th>\n",
       "      <td>ferc</td>\n",
       "      <td>0.124918</td>\n",
       "    </tr>\n",
       "    <tr>\n",
       "      <th>34289</th>\n",
       "      <td>counterparti</td>\n",
       "      <td>0.124901</td>\n",
       "    </tr>\n",
       "    <tr>\n",
       "      <th>24911</th>\n",
       "      <td>cera</td>\n",
       "      <td>0.124893</td>\n",
       "    </tr>\n",
       "    <tr>\n",
       "      <th>35165</th>\n",
       "      <td>crenshaw</td>\n",
       "      <td>0.124892</td>\n",
       "    </tr>\n",
       "    <tr>\n",
       "      <th>145260</th>\n",
       "      <td>sitara</td>\n",
       "      <td>0.124884</td>\n",
       "    </tr>\n",
       "    <tr>\n",
       "      <th>50928</th>\n",
       "      <td>epmi</td>\n",
       "      <td>0.124871</td>\n",
       "    </tr>\n",
       "    <tr>\n",
       "      <th>168671</th>\n",
       "      <td>varianc</td>\n",
       "      <td>0.124867</td>\n",
       "    </tr>\n",
       "    <tr>\n",
       "      <th>173914</th>\n",
       "      <td>westdesk</td>\n",
       "      <td>0.124847</td>\n",
       "    </tr>\n",
       "    <tr>\n",
       "      <th>92776</th>\n",
       "      <td>louises</td>\n",
       "      <td>0.124826</td>\n",
       "    </tr>\n",
       "    <tr>\n",
       "      <th>63591</th>\n",
       "      <td>gibner</td>\n",
       "      <td>0.124817</td>\n",
       "    </tr>\n",
       "    <tr>\n",
       "      <th>36932</th>\n",
       "      <td>dabhol</td>\n",
       "      <td>0.124811</td>\n",
       "    </tr>\n",
       "    <tr>\n",
       "      <th>88375</th>\n",
       "      <td>lavorato</td>\n",
       "      <td>0.124809</td>\n",
       "    </tr>\n",
       "    <tr>\n",
       "      <th>21963</th>\n",
       "      <td>calger</td>\n",
       "      <td>0.124781</td>\n",
       "    </tr>\n",
       "  </tbody>\n",
       "</table>\n",
       "</div>"
      ],
      "text/plain": [
       "               fitur     score\n",
       "46137         dynegi  0.124977\n",
       "84096       kaminski  0.124977\n",
       "101540         mmbtu  0.124950\n",
       "38076          dbcap  0.124947\n",
       "72531      hourahead  0.124938\n",
       "55176         fastow  0.124923\n",
       "178595         xgate  0.124919\n",
       "55887           ferc  0.124918\n",
       "34289   counterparti  0.124901\n",
       "24911           cera  0.124893\n",
       "35165       crenshaw  0.124892\n",
       "145260        sitara  0.124884\n",
       "50928           epmi  0.124871\n",
       "168671       varianc  0.124867\n",
       "173914      westdesk  0.124847\n",
       "92776        louises  0.124826\n",
       "63591         gibner  0.124817\n",
       "36932         dabhol  0.124811\n",
       "88375       lavorato  0.124809\n",
       "21963         calger  0.124781"
      ]
     },
     "execution_count": 44,
     "metadata": {},
     "output_type": "execute_result"
    }
   ],
   "source": [
    "gitcpos = pd.DataFrame(gitc[0])\n",
    "gitcposjoin = pd.concat([nama, gitcpos], axis=1, join='inner')\n",
    "gitcposjoin.columns = ['fitur', 'score']\n",
    "gitcscorepos = gitcposjoin.sort_values(['score'],ascending=False)\n",
    "gitcscorepos[:20]"
   ]
  },
  {
   "cell_type": "code",
   "execution_count": 45,
   "metadata": {},
   "outputs": [
    {
     "data": {
      "text/html": [
       "<div>\n",
       "<style scoped>\n",
       "    .dataframe tbody tr th:only-of-type {\n",
       "        vertical-align: middle;\n",
       "    }\n",
       "\n",
       "    .dataframe tbody tr th {\n",
       "        vertical-align: top;\n",
       "    }\n",
       "\n",
       "    .dataframe thead th {\n",
       "        text-align: right;\n",
       "    }\n",
       "</style>\n",
       "<table border=\"1\" class=\"dataframe\">\n",
       "  <thead>\n",
       "    <tr style=\"text-align: right;\">\n",
       "      <th></th>\n",
       "      <th>fitur</th>\n",
       "      <th>score</th>\n",
       "    </tr>\n",
       "  </thead>\n",
       "  <tbody>\n",
       "    <tr>\n",
       "      <th>169845</th>\n",
       "      <td>viagra</td>\n",
       "      <td>0.124929</td>\n",
       "    </tr>\n",
       "    <tr>\n",
       "      <th>27110</th>\n",
       "      <td>ciali</td>\n",
       "      <td>0.124905</td>\n",
       "    </tr>\n",
       "    <tr>\n",
       "      <th>31049</th>\n",
       "      <td>computron</td>\n",
       "      <td>0.124899</td>\n",
       "    </tr>\n",
       "    <tr>\n",
       "      <th>171234</th>\n",
       "      <td>voip</td>\n",
       "      <td>0.124890</td>\n",
       "    </tr>\n",
       "    <tr>\n",
       "      <th>105785</th>\n",
       "      <td>nbsp</td>\n",
       "      <td>0.124860</td>\n",
       "    </tr>\n",
       "    <tr>\n",
       "      <th>112096</th>\n",
       "      <td>ook</td>\n",
       "      <td>0.124860</td>\n",
       "    </tr>\n",
       "    <tr>\n",
       "      <th>119061</th>\n",
       "      <td>photoshop</td>\n",
       "      <td>0.124855</td>\n",
       "    </tr>\n",
       "    <tr>\n",
       "      <th>75951</th>\n",
       "      <td>inciud</td>\n",
       "      <td>0.124845</td>\n",
       "    </tr>\n",
       "    <tr>\n",
       "      <th>175030</th>\n",
       "      <td>wiil</td>\n",
       "      <td>0.124835</td>\n",
       "    </tr>\n",
       "    <tr>\n",
       "      <th>178251</th>\n",
       "      <td>wysak</td>\n",
       "      <td>0.124823</td>\n",
       "    </tr>\n",
       "    <tr>\n",
       "      <th>155806</th>\n",
       "      <td>technoiogi</td>\n",
       "      <td>0.124818</td>\n",
       "    </tr>\n",
       "    <tr>\n",
       "      <th>134380</th>\n",
       "      <td>resuit</td>\n",
       "      <td>0.124809</td>\n",
       "    </tr>\n",
       "    <tr>\n",
       "      <th>72992</th>\n",
       "      <td>href</td>\n",
       "      <td>0.124809</td>\n",
       "    </tr>\n",
       "    <tr>\n",
       "      <th>96932</th>\n",
       "      <td>materia</td>\n",
       "      <td>0.124797</td>\n",
       "    </tr>\n",
       "    <tr>\n",
       "      <th>136692</th>\n",
       "      <td>rolex</td>\n",
       "      <td>0.124797</td>\n",
       "    </tr>\n",
       "    <tr>\n",
       "      <th>118611</th>\n",
       "      <td>pharmaci</td>\n",
       "      <td>0.124786</td>\n",
       "    </tr>\n",
       "    <tr>\n",
       "      <th>116814</th>\n",
       "      <td>paypal</td>\n",
       "      <td>0.124779</td>\n",
       "    </tr>\n",
       "    <tr>\n",
       "      <th>119352</th>\n",
       "      <td>pieas</td>\n",
       "      <td>0.124776</td>\n",
       "    </tr>\n",
       "    <tr>\n",
       "      <th>40800</th>\n",
       "      <td>deveiop</td>\n",
       "      <td>0.124766</td>\n",
       "    </tr>\n",
       "    <tr>\n",
       "      <th>50749</th>\n",
       "      <td>eogi</td>\n",
       "      <td>0.124757</td>\n",
       "    </tr>\n",
       "  </tbody>\n",
       "</table>\n",
       "</div>"
      ],
      "text/plain": [
       "             fitur     score\n",
       "169845      viagra  0.124929\n",
       "27110        ciali  0.124905\n",
       "31049    computron  0.124899\n",
       "171234        voip  0.124890\n",
       "105785        nbsp  0.124860\n",
       "112096         ook  0.124860\n",
       "119061   photoshop  0.124855\n",
       "75951       inciud  0.124845\n",
       "175030        wiil  0.124835\n",
       "178251       wysak  0.124823\n",
       "155806  technoiogi  0.124818\n",
       "134380      resuit  0.124809\n",
       "72992         href  0.124809\n",
       "96932      materia  0.124797\n",
       "136692       rolex  0.124797\n",
       "118611    pharmaci  0.124786\n",
       "116814      paypal  0.124779\n",
       "119352       pieas  0.124776\n",
       "40800      deveiop  0.124766\n",
       "50749         eogi  0.124757"
      ]
     },
     "execution_count": 45,
     "metadata": {},
     "output_type": "execute_result"
    }
   ],
   "source": [
    "gitcneg = pd.DataFrame(gitc[1])\n",
    "gitcnegjoin = pd.concat([nama, gitcneg], axis=1, join='inner')\n",
    "gitcnegjoin.columns = ['fitur', 'score']\n",
    "gitcscoreneg = gitcnegjoin.sort_values(['score'],ascending=False)\n",
    "gitcscoreneg[:20]"
   ]
  },
  {
   "cell_type": "code",
   "execution_count": 46,
   "metadata": {},
   "outputs": [
    {
     "data": {
      "image/png": "[encoded data removed]",
      "text/plain": [
       "<Figure size 432x288 with 1 Axes>"
      ]
     },
     "metadata": {
      "needs_background": "light"
     },
     "output_type": "display_data"
    }
   ],
   "source": [
    "from decimal import Decimal\n",
    "ax=gitcscoreneg[:10].plot(kind='bar',x='fitur',y='score',title='Best Score GIT C Negatif')\n",
    "for p in ax.patches:\n",
    "    ax.annotate('{:.2E}'.format(Decimal(str(p.get_height()))), (p.get_x(), p.get_height()))\n",
    "plt.tight_layout()\n",
    "plt.show()"
   ]
  },
  {
   "cell_type": "code",
   "execution_count": 47,
   "metadata": {},
   "outputs": [
    {
     "data": {
      "text/plain": [
       "(33716, 80000)"
      ]
     },
     "execution_count": 47,
     "metadata": {},
     "output_type": "execute_result"
    }
   ],
   "source": [
    "from sklearn.datasets import load_digits\n",
    "from sklearn.feature_selection import SelectKBest, chi2\n",
    "chi = SelectKBest(chi2, k=bf)\n",
    "chi.fit(X, y)\n",
    "XCHI = X[:, chi.get_support()]\n",
    "XCHI.shape"
   ]
  },
  {
   "cell_type": "code",
   "execution_count": 48,
   "metadata": {},
   "outputs": [
    {
     "name": "stdout",
     "output_type": "stream",
     "text": [
      "KFold(n_splits=6, random_state=None, shuffle=True)\n"
     ]
    }
   ],
   "source": [
    "kf = KFold(n_splits=6,shuffle=True)\n",
    "#kf.get_n_splits(XGITA)\n",
    "\n",
    "print(kf) "
   ]
  },
  {
   "cell_type": "code",
   "execution_count": 49,
   "metadata": {},
   "outputs": [
    {
     "name": "stdout",
     "output_type": "stream",
     "text": [
      "TRAIN: [    0     1     2 ... 33713 33714 33715] TEST: [   11    12    14 ... 33703 33705 33712]\n",
      "TRAIN: [    0     1     2 ... 33713 33714 33715] TEST: [    4     5     8 ... 33697 33699 33701]\n",
      "TRAIN: [    0     2     4 ... 33713 33714 33715] TEST: [    1     3    34 ... 33688 33698 33710]\n",
      "TRAIN: [    1     2     3 ... 33711 33712 33715] TEST: [    0    24    27 ... 33707 33713 33714]\n",
      "TRAIN: [    0     1     2 ... 33713 33714 33715] TEST: [    6     9    13 ... 33689 33693 33708]\n",
      "TRAIN: [    0     1     3 ... 33712 33713 33714] TEST: [    2     7    10 ... 33709 33711 33715]\n",
      "f1 Score  86.55120192678062\n",
      "acc gita 85.93249380332827\n",
      "Wall time: 26.7 s\n"
     ]
    }
   ],
   "source": [
    "%%time\n",
    "f1gita=[]\n",
    "accgita=[]\n",
    "cek = []\n",
    "for train_index, test_index in kf.split(XGITA):\n",
    "    print(\"TRAIN:\", train_index, \"TEST:\", test_index)\n",
    "    X_train, X_test = XGITA[train_index], XGITA[test_index]\n",
    "    y_train, y_test = y[train_index], y[test_index]\n",
    "    \n",
    "    xtrain = X_train\n",
    "    xtest = X_test\n",
    "    \n",
    "    clf = mnnb.mnnb()\n",
    "    clf.fit(xtrain, y_train)\n",
    "    yp = clf.predict(xtest)\n",
    "    yt = preprocessing.label_ke_numerik(y_test)\n",
    "    from sklearn.metrics import f1_score\n",
    "    f1gita.append(f1_score(yt,yp)*100)\n",
    "    accgita.append(accuracy_score(yt,yp)*100)\n",
    "    cek.append(train_index)\n",
    "    \n",
    "print(\"f1 Score \", np.mean(f1gita))\n",
    "print(\"acc gita\", np.mean(accgita))"
   ]
  },
  {
   "cell_type": "code",
   "execution_count": 50,
   "metadata": {},
   "outputs": [
    {
     "name": "stdout",
     "output_type": "stream",
     "text": [
      "TRAIN: [    0     1     2 ... 33713 33714 33715] TEST: [    3     4     6 ... 33703 33706 33711]\n",
      "TRAIN: [    0     1     3 ... 33710 33711 33714] TEST: [    2    21    23 ... 33712 33713 33715]\n",
      "TRAIN: [    1     2     3 ... 33713 33714 33715] TEST: [    0    13    15 ... 33702 33704 33705]\n",
      "TRAIN: [    0     1     2 ... 33713 33714 33715] TEST: [    5     8     9 ... 33684 33691 33692]\n",
      "TRAIN: [    0     1     2 ... 33712 33713 33715] TEST: [    7    17    22 ... 33700 33708 33714]\n",
      "TRAIN: [    0     2     3 ... 33713 33714 33715] TEST: [    1    10    11 ... 33694 33695 33710]\n",
      "CV Score is  48.890240308288405\n",
      "Wall time: 27.3 s\n"
     ]
    }
   ],
   "source": [
    "%%time\n",
    "f1gitb=[]\n",
    "accgitb=[]\n",
    "for train_index, test_index in kf.split(XGITB):\n",
    "    print(\"TRAIN:\", train_index, \"TEST:\", test_index)\n",
    "    X_train, X_test = XGITB[train_index], XGITB[test_index]\n",
    "    y_train, y_test = y[train_index], y[test_index]\n",
    "\n",
    "    xtrain = X_train\n",
    "    xtest = X_test\n",
    "    \n",
    "    clf = mnnb.mnnb()\n",
    "    clf.fit(xtrain, y_train)\n",
    "    yp = clf.predict(xtest)\n",
    "    yt = preprocessing.label_ke_numerik(y_test)\n",
    "    \n",
    "    f1gitb.append(f1_score(yt,yp)*100)\n",
    "    accgitb.append(accuracy_score(yt,yp)*100)\n",
    "print(\"CV Score is \", np.mean(f1gitb))"
   ]
  },
  {
   "cell_type": "code",
   "execution_count": 51,
   "metadata": {},
   "outputs": [
    {
     "name": "stdout",
     "output_type": "stream",
     "text": [
      "TRAIN: [    0     1     3 ... 33713 33714 33715] TEST: [    2     9    19 ... 33709 33711 33712]\n",
      "TRAIN: [    0     1     2 ... 33713 33714 33715] TEST: [    6     8    16 ... 33684 33689 33700]\n",
      "TRAIN: [    1     2     3 ... 33712 33713 33714] TEST: [    0     5    22 ... 33708 33710 33715]\n",
      "TRAIN: [    0     2     3 ... 33712 33714 33715] TEST: [    1     7    11 ... 33703 33705 33713]\n",
      "TRAIN: [    0     1     2 ... 33712 33713 33715] TEST: [    3    10    12 ... 33691 33704 33714]\n",
      "TRAIN: [    0     1     2 ... 33713 33714 33715] TEST: [    4    13    17 ... 33697 33701 33702]\n",
      "CV Score is  98.23357835213983\n",
      "Wall time: 26.9 s\n"
     ]
    }
   ],
   "source": [
    "%%time\n",
    "f1gitc=[]\n",
    "accgitc=[]\n",
    "getindex=[]\n",
    "for train_index, test_index in kf.split(XGITC):\n",
    "    print(\"TRAIN:\", train_index, \"TEST:\", test_index)\n",
    "    X_train, X_test = XGITC[train_index], XGITC[test_index]\n",
    "    getindex.append(train_index)\n",
    "    y_train, y_test = y[train_index], y[test_index]\n",
    "\n",
    "    xtrain = X_train\n",
    "    xtest = X_test\n",
    "    \n",
    "    clf = mnnb.mnnb()\n",
    "    clf.fit(xtrain, y_train)\n",
    "    yp = clf.predict(xtest)\n",
    "    yt = preprocessing.label_ke_numerik(y_test)\n",
    "    \n",
    "    f1gitc.append(f1_score(yt,yp)*100)\n",
    "    accgitc.append(accuracy_score(yt,yp)*100)\n",
    "    \n",
    "print(\"CV Score is \", np.mean(f1gitc))"
   ]
  },
  {
   "cell_type": "code",
   "execution_count": 52,
   "metadata": {},
   "outputs": [
    {
     "name": "stdout",
     "output_type": "stream",
     "text": [
      "TRAIN: [    0     1     2 ... 33713 33714 33715] TEST: [    8    13    16 ... 33698 33706 33709]\n",
      "TRAIN: [    1     2     4 ... 33712 33714 33715] TEST: [    0     3     6 ... 33694 33700 33713]\n",
      "TRAIN: [    0     2     3 ... 33712 33713 33715] TEST: [    1     5     9 ... 33699 33704 33714]\n",
      "TRAIN: [    0     1     2 ... 33713 33714 33715] TEST: [   21    24    27 ... 33697 33702 33710]\n",
      "TRAIN: [    0     1     3 ... 33713 33714 33715] TEST: [    2    14    33 ... 33705 33707 33712]\n",
      "TRAIN: [    0     1     2 ... 33712 33713 33714] TEST: [    4    10    11 ... 33708 33711 33715]\n",
      "CV Score is  98.09540213628809\n",
      "Wall time: 27.3 s\n"
     ]
    }
   ],
   "source": [
    "%%time\n",
    "f1chi=[]\n",
    "accchi=[]\n",
    "for train_index, test_index in kf.split(XCHI):\n",
    "    print(\"TRAIN:\", train_index, \"TEST:\", test_index)\n",
    "    X_train, X_test = XCHI[train_index], XCHI[test_index]\n",
    "    y_train, y_test = y[train_index], y[test_index]\n",
    "\n",
    "    xtrain = X_train\n",
    "    xtest = X_test\n",
    "    \n",
    "    clf = mnnb.mnnb()\n",
    "    clf.fit(xtrain, y_train)\n",
    "    yp = clf.predict(xtest)\n",
    "    yt = preprocessing.label_ke_numerik(y_test)\n",
    "    \n",
    "    f1chi.append(f1_score(yt,yp)*100)\n",
    "    accchi.append(accuracy_score(yt,yp)*100)\n",
    "    \n",
    "print(\"CV Score is \", np.mean(f1chi))"
   ]
  },
  {
   "cell_type": "code",
   "execution_count": 53,
   "metadata": {},
   "outputs": [],
   "source": [
    "X3000=X[:,:]"
   ]
  },
  {
   "cell_type": "code",
   "execution_count": 54,
   "metadata": {},
   "outputs": [
    {
     "name": "stdout",
     "output_type": "stream",
     "text": [
      "TRAIN: [    0     3     4 ... 33712 33713 33714] TEST: [    1     2     5 ... 33707 33710 33715]\n",
      "TRAIN: [    0     1     2 ... 33713 33714 33715] TEST: [   13    16    20 ... 33702 33705 33708]\n",
      "TRAIN: [    0     1     2 ... 33712 33713 33715] TEST: [   10    12    22 ... 33709 33711 33714]\n",
      "TRAIN: [    1     2     4 ... 33712 33714 33715] TEST: [    0     3     6 ... 33700 33701 33713]\n",
      "TRAIN: [    0     1     2 ... 33713 33714 33715] TEST: [    7    17    19 ... 33703 33706 33712]\n",
      "TRAIN: [    0     1     2 ... 33713 33714 33715] TEST: [    4     9    11 ... 33686 33690 33699]\n",
      "CV Score is  98.00798668683484\n",
      "Wall time: 1min 25s\n"
     ]
    }
   ],
   "source": [
    "%%time\n",
    "f1scores=[]\n",
    "accscores=[]\n",
    "for train_index, test_index in kf.split(X3000):\n",
    "    print(\"TRAIN:\", train_index, \"TEST:\", test_index)\n",
    "    X_train, X_test = X3000[train_index], X3000[test_index]\n",
    "    y_train, y_test = y[train_index], y[test_index]\n",
    "\n",
    "    xtrain = X_train\n",
    "    xtest = X_test\n",
    "    \n",
    "    clf = mnnb.mnnb()\n",
    "    clf.fit(xtrain, y_train)\n",
    "    yp = clf.predict(xtest)\n",
    "    yt = preprocessing.label_ke_numerik(y_test)\n",
    "    #scores.append(evaluation.f1(yt,yp))\n",
    "    f1scores.append(f1_score(yt,yp)*100)\n",
    "    accscores.append(accuracy_score(yt,yp)*100)\n",
    "print(\"CV Score is \", np.mean(f1scores))"
   ]
  },
  {
   "cell_type": "markdown",
   "metadata": {},
   "source": [
    "## Rangkuman Hasil"
   ]
  },
  {
   "cell_type": "code",
   "execution_count": 55,
   "metadata": {},
   "outputs": [
    {
     "name": "stdout",
     "output_type": "stream",
     "text": [
      "   GIT A  GIT B  GIT C   CHI2  Tanpa Fitur Seleksi\n",
      "0  86.50  49.66  98.27  97.92                97.99\n",
      "1  86.73  48.23  98.23  98.14                97.92\n",
      "2  86.64  48.82  98.41  98.13                98.19\n",
      "3  85.53  48.97  98.44  98.29                97.73\n",
      "4  87.31  49.40  98.15  97.78                98.39\n",
      "5  86.61  48.26  97.90  98.32                97.84\n"
     ]
    },
    {
     "data": {
      "text/plain": [
       "GIT A                  86.553333\n",
       "GIT B                  48.890000\n",
       "GIT C                  98.233333\n",
       "CHI2                   98.096667\n",
       "Tanpa Fitur Seleksi    98.010000\n",
       "dtype: float64"
      ]
     },
     "execution_count": 55,
     "metadata": {},
     "output_type": "execute_result"
    }
   ],
   "source": [
    "hasilf1 = pd.DataFrame({'GIT A' : np.round(f1gita,2), 'GIT B' : np.round(f1gitb,2), 'GIT C' : np.round(f1gitc,2), 'CHI2' : np.round(f1chi,2), 'Tanpa Fitur Seleksi': np.round(f1scores,2)})\n",
    "print(hasilf1)\n",
    "hasilf1.mean(axis=0)"
   ]
  },
  {
   "cell_type": "code",
   "execution_count": 56,
   "metadata": {},
   "outputs": [
    {
     "name": "stdout",
     "output_type": "stream",
     "text": [
      "   GIT A  GIT B  GIT C   CHI2  Tanpa Fitur Seleksi\n",
      "0  85.69  47.26  98.24  97.90                97.95\n",
      "1  86.21  46.71  98.22  98.13                97.88\n",
      "2  86.14  46.04  98.38  98.11                98.18\n",
      "3  84.75  46.89  98.40  98.26                97.74\n",
      "4  86.71  47.14  98.13  97.70                98.36\n",
      "5  86.10  46.65  97.88  98.29                97.76\n"
     ]
    },
    {
     "data": {
      "text/plain": [
       "GIT A                  85.933333\n",
       "GIT B                  46.781667\n",
       "GIT C                  98.208333\n",
       "CHI2                   98.065000\n",
       "Tanpa Fitur Seleksi    97.978333\n",
       "dtype: float64"
      ]
     },
     "execution_count": 56,
     "metadata": {},
     "output_type": "execute_result"
    }
   ],
   "source": [
    "hasilakurasi = pd.DataFrame({'GIT A' : np.round(accgita,2), 'GIT B' : np.round(accgitb,2), 'GIT C' : np.round(accgitc,2), 'CHI2' : np.round(accchi,2), 'Tanpa Fitur Seleksi': np.round(accscores,2)})\n",
    "print(hasilakurasi)\n",
    "hasilakurasi.mean(axis=0)"
   ]
  },
  {
   "cell_type": "markdown",
   "metadata": {},
   "source": [
    "## Mengetahui Kelipatan 5000 fitur dari semua fitur"
   ]
  },
  {
   "cell_type": "code",
   "execution_count": 57,
   "metadata": {},
   "outputs": [],
   "source": [
    "kf = KFold(n_splits=6,shuffle=True)"
   ]
  },
  {
   "cell_type": "code",
   "execution_count": 58,
   "metadata": {},
   "outputs": [
    {
     "name": "stdout",
     "output_type": "stream",
     "text": [
      "100\n",
      "200\n",
      "300\n",
      "400\n",
      "500\n",
      "600\n",
      "700\n",
      "800\n",
      "900\n",
      "1000\n",
      "1100\n",
      "1200\n",
      "1300\n",
      "1400\n",
      "1500\n",
      "1600\n",
      "1700\n",
      "1800\n",
      "1900\n",
      "2000\n",
      "2100\n",
      "2200\n",
      "2300\n",
      "2400\n",
      "2500\n",
      "2600\n",
      "2700\n",
      "2800\n",
      "2900\n",
      "3000\n",
      "3100\n",
      "3200\n",
      "3300\n",
      "3400\n",
      "3500\n",
      "3600\n",
      "3700\n",
      "3800\n",
      "3900\n",
      "4000\n",
      "4100\n",
      "4200\n",
      "4300\n",
      "4400\n",
      "4500\n",
      "4600\n",
      "4700\n",
      "4800\n",
      "4900\n",
      "5000\n",
      "5100\n",
      "5200\n",
      "5300\n",
      "5400\n",
      "5500\n",
      "5600\n",
      "5700\n",
      "5800\n",
      "5900\n",
      "6000\n",
      "6100\n",
      "6200\n",
      "6300\n",
      "6400\n",
      "6500\n",
      "6600\n",
      "6700\n",
      "6800\n",
      "6900\n",
      "7000\n",
      "7100\n",
      "7200\n",
      "7300\n",
      "7400\n",
      "7500\n",
      "7600\n",
      "7700\n",
      "7800\n",
      "7900\n",
      "8000\n",
      "8100\n",
      "8200\n",
      "8300\n",
      "8400\n",
      "8500\n",
      "8600\n",
      "8700\n",
      "8800\n",
      "8900\n",
      "9000\n",
      "9100\n",
      "9200\n",
      "9300\n",
      "9400\n",
      "9500\n",
      "9600\n",
      "9700\n",
      "9800\n",
      "9900\n",
      "10000\n",
      "10100\n",
      "10200\n",
      "10300\n",
      "10400\n",
      "10500\n",
      "10600\n",
      "10700\n",
      "10800\n",
      "10900\n",
      "11000\n",
      "11100\n",
      "11200\n",
      "11300\n",
      "11400\n",
      "11500\n",
      "11600\n",
      "11700\n",
      "11800\n",
      "11900\n",
      "12000\n",
      "12100\n",
      "12200\n",
      "12300\n",
      "12400\n",
      "12500\n",
      "selesai\n"
     ]
    }
   ],
   "source": [
    "akurasia = []\n",
    "f1a = []\n",
    "kindexa =[]\n",
    "K = range(1,12475)\n",
    "for pp in K:\n",
    "    pp*=100\n",
    "    GT = ga.gita(alpha=0.5)\n",
    "    gita = GT.fit(X,y)\n",
    "    SK = sk.selectkbestindex(k=pp)\n",
    "    indices = SK.get(gita)\n",
    "    XGITA = X[:, indices]\n",
    "    XGITA.shape\n",
    "    kf.get_n_splits(XGITA)\n",
    "    scoresgita=[]\n",
    "    scoresf1a=[]\n",
    "    for train_index, test_index in kf.split(XGITA):\n",
    "        X_train, X_test = XGITA[train_index], XGITA[test_index]\n",
    "        y_train, y_test = y[train_index], y[test_index]\n",
    "\n",
    "        xtrain = X_train\n",
    "        xtest = X_test\n",
    "\n",
    "        clf = mnnb.mnnb()\n",
    "        clf.fit(xtrain, y_train)\n",
    "        yp = clf.predict(xtest)\n",
    "        yt = preprocessing.label_ke_numerik(y_test)\n",
    "\n",
    "        scoresgita.append(accuracy_score(yt, yp)*100)\n",
    "        scoresf1a.append(f1_score(yt,yp)*100)\n",
    "    akurasia.append(np.mean(scoresgita))\n",
    "    f1a.append(np.mean(scoresf1a))\n",
    "    kindexa.append(pp)\n",
    "    print(pp)\n",
    "    if pp >= 12475:\n",
    "        print(\"selesai\")\n",
    "        break;"
   ]
  },
  {
   "cell_type": "code",
   "execution_count": 59,
   "metadata": {},
   "outputs": [
    {
     "data": {
      "text/plain": [
       "96.36670891022389"
      ]
     },
     "execution_count": 59,
     "metadata": {},
     "output_type": "execute_result"
    }
   ],
   "source": [
    "np.max(akurasia)"
   ]
  },
  {
   "cell_type": "code",
   "execution_count": 60,
   "metadata": {},
   "outputs": [
    {
     "data": {
      "text/plain": [
       "[73.74244086271436,\n",
       " 77.3371971093669,\n",
       " 80.65308993359886,\n",
       " 82.95766439784353,\n",
       " 83.81482913526109,\n",
       " 85.1405806895221,\n",
       " 85.64185242959564,\n",
       " 86.16383850167739,\n",
       " 86.68583987939581,\n",
       " 87.66166763461625,\n",
       " 88.12433855899435,\n",
       " 88.38238578775578,\n",
       " 88.7145671872061,\n",
       " 89.01413280268163,\n",
       " 90.34287634502239,\n",
       " 90.43478774881952,\n",
       " 90.53862382692851,\n",
       " 90.6483573251827,\n",
       " 90.81148691199176,\n",
       " 91.20000836004431,\n",
       " 91.36017815338867,\n",
       " 91.45214233524327,\n",
       " 92.07202800952622,\n",
       " 92.1194955388819,\n",
       " 92.25885758305633,\n",
       " 92.3715735693399,\n",
       " 92.430895578191,\n",
       " 92.60587278334798,\n",
       " 92.63553827390841,\n",
       " 92.74230775645333,\n",
       " 92.79867999967065,\n",
       " 93.09822978172895,\n",
       " 93.18722308672682,\n",
       " 93.21686377160022,\n",
       " 93.24653506774696,\n",
       " 93.27620108608797,\n",
       " 93.55201657568786,\n",
       " 93.58465347088564,\n",
       " 93.78633056755201,\n",
       " 93.8159865580621,\n",
       " 93.89607673254001,\n",
       " 94.17485465450746,\n",
       " 94.20156246272548,\n",
       " 94.24607336529994,\n",
       " 94.28461770847385,\n",
       " 94.43585692670837,\n",
       " 94.4566425090942,\n",
       " 94.48036255147707,\n",
       " 94.48926462643585,\n",
       " 94.53375230666501,\n",
       " 94.57529180460212,\n",
       " 94.5901018553176,\n",
       " 94.62570012732179,\n",
       " 94.6494133085572,\n",
       " 94.66130737159574,\n",
       " 94.75915314017833,\n",
       " 94.78288954375903,\n",
       " 94.78286737697488,\n",
       " 94.79772492794213,\n",
       " 94.81256189546694,\n",
       " 94.83036182313988,\n",
       " 94.82739200184427,\n",
       " 94.89856057348214,\n",
       " 94.94604499181624,\n",
       " 94.96381747489927,\n",
       " 95.01421999203262,\n",
       " 95.03502404673856,\n",
       " 95.05575104548053,\n",
       " 95.06762663619895,\n",
       " 95.06468689839612,\n",
       " 95.13582960878581,\n",
       " 95.15068399306962,\n",
       " 95.16846492064188,\n",
       " 95.19812407783537,\n",
       " 95.22481658041677,\n",
       " 95.20700768047404,\n",
       " 95.23668742110999,\n",
       " 95.23074566739649,\n",
       " 95.24854612285002,\n",
       " 95.24262706370122,\n",
       " 95.46208456015927,\n",
       " 95.46209986579595,\n",
       " 95.47988448783224,\n",
       " 95.48286011471417,\n",
       " 95.49768969331092,\n",
       " 95.52437269584196,\n",
       " 95.5362456476575,\n",
       " 95.54515775044719,\n",
       " 95.54515775044717,\n",
       " 95.53625092546322,\n",
       " 95.55702542445697,\n",
       " 95.55997255118784,\n",
       " 95.82393145017001,\n",
       " 95.82987320388354,\n",
       " 95.82395520029591,\n",
       " 95.84765413145578,\n",
       " 95.85361066302539,\n",
       " 95.85064400841323,\n",
       " 95.88326348685204,\n",
       " 95.87140689623432,\n",
       " 95.90103913661854,\n",
       " 95.90699144594356,\n",
       " 95.91886070329507,\n",
       " 95.93367022622998,\n",
       " 95.92180202443961,\n",
       " 95.90104494220486,\n",
       " 95.93961514662693,\n",
       " 95.93961461884636,\n",
       " 96.25994998329047,\n",
       " 96.26290608229112,\n",
       " 96.27773882757134,\n",
       " 96.28662401355172,\n",
       " 96.27772035525122,\n",
       " 96.27180129610242,\n",
       " 96.26586745909754,\n",
       " 96.31035355598495,\n",
       " 96.2836710812345,\n",
       " 96.30739481808143,\n",
       " 96.3192603809689,\n",
       " 96.3489058158675,\n",
       " 96.35189199836093,\n",
       " 96.36076504538808,\n",
       " 96.36670785466275,\n",
       " 96.36670891022389,\n",
       " 96.3637596723707]"
      ]
     },
     "execution_count": 60,
     "metadata": {},
     "output_type": "execute_result"
    }
   ],
   "source": [
    "akurasia"
   ]
  },
  {
   "cell_type": "code",
   "execution_count": 61,
   "metadata": {},
   "outputs": [
    {
     "name": "stdout",
     "output_type": "stream",
     "text": [
      "100\n",
      "200\n",
      "300\n",
      "400\n",
      "500\n",
      "600\n",
      "700\n",
      "800\n",
      "900\n",
      "1000\n",
      "1100\n",
      "1200\n",
      "1300\n",
      "1400\n",
      "1500\n",
      "1600\n",
      "1700\n",
      "1800\n",
      "1900\n",
      "2000\n",
      "2100\n",
      "2200\n",
      "2300\n",
      "2400\n",
      "2500\n",
      "2600\n",
      "2700\n",
      "2800\n",
      "2900\n",
      "3000\n",
      "3100\n",
      "3200\n",
      "3300\n",
      "3400\n",
      "3500\n",
      "3600\n",
      "3700\n",
      "3800\n",
      "3900\n",
      "4000\n",
      "4100\n",
      "4200\n",
      "4300\n",
      "4400\n",
      "4500\n",
      "4600\n",
      "4700\n",
      "4800\n",
      "4900\n",
      "5000\n",
      "5100\n",
      "5200\n",
      "5300\n",
      "5400\n",
      "5500\n",
      "5600\n",
      "5700\n",
      "5800\n",
      "5900\n",
      "6000\n",
      "6100\n",
      "6200\n",
      "6300\n",
      "6400\n",
      "6500\n",
      "6600\n",
      "6700\n",
      "6800\n",
      "6900\n",
      "7000\n",
      "7100\n",
      "7200\n",
      "7300\n",
      "7400\n",
      "7500\n",
      "7600\n",
      "7700\n",
      "7800\n",
      "7900\n",
      "8000\n",
      "8100\n",
      "8200\n",
      "8300\n",
      "8400\n",
      "8500\n",
      "8600\n",
      "8700\n",
      "8800\n",
      "8900\n",
      "9000\n",
      "9100\n",
      "9200\n",
      "9300\n",
      "9400\n",
      "9500\n",
      "9600\n",
      "9700\n",
      "9800\n",
      "9900\n",
      "10000\n",
      "10100\n",
      "10200\n",
      "10300\n",
      "10400\n",
      "10500\n",
      "10600\n",
      "10700\n",
      "10800\n",
      "10900\n",
      "11000\n",
      "11100\n",
      "11200\n",
      "11300\n",
      "11400\n",
      "11500\n",
      "11600\n",
      "11700\n",
      "11800\n",
      "11900\n",
      "12000\n",
      "12100\n",
      "12200\n",
      "12300\n",
      "12400\n",
      "12500\n",
      "selesai\n",
      "Wall time: 6min 10s\n"
     ]
    }
   ],
   "source": [
    "%%time\n",
    "akurasib = []\n",
    "f1b = []\n",
    "kindexb =[]\n",
    "K = range(1,12475)\n",
    "for pp in K:\n",
    "    pp*=100\n",
    "    GT = gb.gitb(alpha=0.1)\n",
    "    gitb = GT.fit(X,y)\n",
    "    SK = sk.selectkbestindex(k=pp)\n",
    "    indices = SK.get(gitb)\n",
    "    XGITB = X[:, indices]\n",
    "    XGITB.shape\n",
    "    kf.get_n_splits(XGITB)\n",
    "    scoresgitb=[]\n",
    "    scoresf1b=[]\n",
    "    for train_index, test_index in kf.split(XGITB):\n",
    "        X_train, X_test = XGITB[train_index], XGITB[test_index]\n",
    "        y_train, y_test = y[train_index], y[test_index]\n",
    "\n",
    "        xtrain = X_train\n",
    "        xtest = X_test\n",
    "\n",
    "        clf = mnnb.mnnb()\n",
    "        clf.fit(xtrain, y_train)\n",
    "        yp = clf.predict(xtest)\n",
    "        yt = preprocessing.label_ke_numerik(y_test)\n",
    "\n",
    "        scoresgitb.append(accuracy_score(yt, yp)*100)\n",
    "        scoresf1b.append(f1_score(yt,yp)*100)\n",
    "    akurasib.append(np.mean(scoresgitb))\n",
    "    f1b.append(np.mean(scoresf1b))\n",
    "    kindexb.append(pp)\n",
    "    print(pp)\n",
    "    if pp >= 12475:\n",
    "        print(\"selesai\")\n",
    "        break;"
   ]
  },
  {
   "cell_type": "code",
   "execution_count": 62,
   "metadata": {},
   "outputs": [
    {
     "data": {
      "text/plain": [
       "50.69107588492441"
      ]
     },
     "execution_count": 62,
     "metadata": {},
     "output_type": "execute_result"
    }
   ],
   "source": [
    "np.max(akurasib)"
   ]
  },
  {
   "cell_type": "code",
   "execution_count": 63,
   "metadata": {},
   "outputs": [
    {
     "data": {
      "text/plain": [
       "[50.69107588492441,\n",
       " 50.57536263275529,\n",
       " 50.50423258909939,\n",
       " 50.42416722030848,\n",
       " 50.4182164943252,\n",
       " 50.424162998063885,\n",
       " 50.35593574757056,\n",
       " 50.341115669024155,\n",
       " 50.32031108653765,\n",
       " 50.21949285775659,\n",
       " 50.16015026546307,\n",
       " 50.112702791769244,\n",
       " 50.05930142540867,\n",
       " 50.03264270078409,\n",
       " 49.97031867602232,\n",
       " 49.87838932768565,\n",
       " 49.82500326696175,\n",
       " 49.738977144356646,\n",
       " 49.63517906644905,\n",
       " 49.587778565226394,\n",
       " 49.56101428448682,\n",
       " 49.51061229513405,\n",
       " 49.46613833719985,\n",
       " 49.38305248017815,\n",
       " 49.39494232097207,\n",
       " 49.326675486935635,\n",
       " 49.24964960647625,\n",
       " 49.22589261945311,\n",
       " 49.20809480290245,\n",
       " 49.15470768661741,\n",
       " 49.13397541006967,\n",
       " 49.10726232404588,\n",
       " 49.086515797422614,\n",
       " 49.02718270517945,\n",
       " 48.96490776401115,\n",
       " 48.855160543461984,\n",
       " 48.778026995765295,\n",
       " 48.781036928384616,\n",
       " 48.76915975432447,\n",
       " 48.71273842751366,\n",
       " 48.73061435558942,\n",
       " 48.69496013884429,\n",
       " 48.69200615096593,\n",
       " 48.67127229107647,\n",
       " 48.582250485927574,\n",
       " 48.57934294273982,\n",
       " 48.525946854185,\n",
       " 48.448800639754495,\n",
       " 48.36578814423272,\n",
       " 48.353886164485566,\n",
       " 48.36577864418236,\n",
       " 48.30938476196146,\n",
       " 48.30047318695233,\n",
       " 48.303469925057264,\n",
       " 48.3153428768728,\n",
       " 48.353890386730164,\n",
       " 48.36278243385801,\n",
       " 48.38059766716764,\n",
       " 48.38945751968041,\n",
       " 48.368709937496,\n",
       " 48.36875690996718,\n",
       " 48.342012684889454,\n",
       " 48.300481103660964,\n",
       " 48.2678315417294,\n",
       " 48.14628684198693,\n",
       " 48.09586057472771,\n",
       " 48.09289128121268,\n",
       " 48.048419434400785,\n",
       " 48.00690210324782,\n",
       " 47.941641507366654,\n",
       " 47.950535665616805,\n",
       " 47.89118146215065,\n",
       " 47.83187792561967,\n",
       " 47.76664530210899,\n",
       " 47.739950160624744,\n",
       " 47.69543609136684,\n",
       " 47.63019344002524,\n",
       " 47.60348510402661,\n",
       " 47.57685171286963,\n",
       " 47.55603235252702,\n",
       " 47.58275282747888,\n",
       " 47.57681529600996,\n",
       " 47.60943741335163,\n",
       " 47.63021771793168,\n",
       " 47.60941313544517,\n",
       " 47.60350885415249,\n",
       " 47.55606454714209,\n",
       " 47.52046627513793,\n",
       " 47.517532870701984,\n",
       " 47.502670041929,\n",
       " 47.45814013925385,\n",
       " 47.40476780082491,\n",
       " 47.354415950626766,\n",
       " 47.39292704362445,\n",
       " 47.30986229782574,\n",
       " 47.31584416286295,\n",
       " 47.277292430761,\n",
       " 47.256497348324835,\n",
       " 47.200155716380856,\n",
       " 47.161573373005545,\n",
       " 47.13487770374072,\n",
       " 47.093342955828774,\n",
       " 47.02814463805547,\n",
       " 47.01626271397017,\n",
       " 46.980650719671026,\n",
       " 46.9599121097564,\n",
       " 46.94509150342942,\n",
       " 46.965815335487946,\n",
       " 46.989552794629816,\n",
       " 46.99546077038653,\n",
       " 46.99846806410296,\n",
       " 46.94209582088563,\n",
       " 46.89468106958745,\n",
       " 46.87682466939297,\n",
       " 46.83533319948818,\n",
       " 46.7967587728215,\n",
       " 46.79377997925612,\n",
       " 46.755256747305204,\n",
       " 46.74632828331769,\n",
       " 46.776028079615486,\n",
       " 46.737442041776156,\n",
       " 46.75527416406418,\n",
       " 46.74934191040101,\n",
       " 46.77897520634637,\n",
       " 46.77601594066226]"
      ]
     },
     "execution_count": 63,
     "metadata": {},
     "output_type": "execute_result"
    }
   ],
   "source": [
    "akurasib"
   ]
  },
  {
   "cell_type": "code",
   "execution_count": 64,
   "metadata": {
    "scrolled": true
   },
   "outputs": [
    {
     "name": "stdout",
     "output_type": "stream",
     "text": [
      "100\n",
      "200\n",
      "300\n",
      "400\n",
      "500\n",
      "600\n",
      "700\n",
      "800\n",
      "900\n",
      "1000\n",
      "1100\n",
      "1200\n",
      "1300\n",
      "1400\n",
      "1500\n",
      "1600\n",
      "1700\n",
      "1800\n",
      "1900\n",
      "2000\n",
      "2100\n",
      "2200\n",
      "2300\n",
      "2400\n",
      "2500\n",
      "2600\n",
      "2700\n",
      "2800\n",
      "2900\n",
      "3000\n",
      "3100\n",
      "3200\n",
      "3300\n",
      "3400\n",
      "3500\n",
      "3600\n",
      "3700\n",
      "3800\n",
      "3900\n",
      "4000\n",
      "4100\n",
      "4200\n",
      "4300\n",
      "4400\n",
      "4500\n",
      "4600\n",
      "4700\n",
      "4800\n",
      "4900\n",
      "5000\n",
      "5100\n",
      "5200\n",
      "5300\n",
      "5400\n",
      "5500\n",
      "5600\n",
      "5700\n",
      "5800\n",
      "5900\n",
      "6000\n",
      "6100\n",
      "6200\n",
      "6300\n",
      "6400\n",
      "6500\n",
      "6600\n",
      "6700\n",
      "6800\n",
      "6900\n",
      "7000\n",
      "7100\n",
      "7200\n",
      "7300\n",
      "7400\n",
      "7500\n",
      "7600\n",
      "7700\n",
      "7800\n",
      "7900\n",
      "8000\n",
      "8100\n",
      "8200\n",
      "8300\n",
      "8400\n",
      "8500\n",
      "8600\n",
      "8700\n",
      "8800\n",
      "8900\n",
      "9000\n",
      "9100\n",
      "9200\n",
      "9300\n",
      "9400\n",
      "9500\n",
      "9600\n",
      "9700\n",
      "9800\n",
      "9900\n",
      "10000\n",
      "10100\n",
      "10200\n",
      "10300\n",
      "10400\n",
      "10500\n",
      "10600\n",
      "10700\n",
      "10800\n",
      "10900\n",
      "11000\n",
      "11100\n",
      "11200\n",
      "11300\n",
      "11400\n",
      "11500\n",
      "11600\n",
      "11700\n",
      "11800\n",
      "11900\n",
      "12000\n",
      "12100\n",
      "12200\n",
      "12300\n",
      "12400\n",
      "12500\n",
      "selesai\n",
      "Wall time: 6min 11s\n"
     ]
    }
   ],
   "source": [
    "%%time\n",
    "akurasic = []\n",
    "f1c=[]\n",
    "kindexc =[]\n",
    "K = range(1,12475)\n",
    "for pp in K:\n",
    "    pp*=100\n",
    "    GT = gc.gitc(alpha=0.1)\n",
    "    gitc = GT.fit(X,y)\n",
    "    SK = sk.selectkbestindex(k=pp)\n",
    "    indices = SK.get(gitc)\n",
    "    XGITC = X[:, indices]\n",
    "    XGITC.shape\n",
    "    kf.get_n_splits(XGITC)\n",
    "    scoresgitc=[]\n",
    "    scoresf1c=[]\n",
    "    for train_index, test_index in kf.split(XGITC):\n",
    "        X_train, X_test = XGITC[train_index], XGITC[test_index]\n",
    "        y_train, y_test = y[train_index], y[test_index]\n",
    "\n",
    "        xtrain = X_train\n",
    "        xtest = X_test\n",
    "\n",
    "        clf = mnnb.mnnb()\n",
    "        clf.fit(xtrain, y_train)\n",
    "        yp = clf.predict(xtest)\n",
    "        yt = preprocessing.label_ke_numerik(y_test)\n",
    "\n",
    "        scoresgitc.append(accuracy_score(yt, yp)*100)\n",
    "        scoresf1c.append(f1_score(yt,yp)*100)\n",
    "    akurasic.append(np.mean(scoresgitc))\n",
    "    f1c.append(np.mean(scoresf1c))\n",
    "    kindexc.append(pp)\n",
    "    print(pp)\n",
    "    if pp >= 12475:\n",
    "        print(\"selesai\")\n",
    "        break;"
   ]
  },
  {
   "cell_type": "code",
   "execution_count": 65,
   "metadata": {},
   "outputs": [
    {
     "data": {
      "text/plain": [
       "93.69438327467581"
      ]
     },
     "execution_count": 65,
     "metadata": {},
     "output_type": "execute_result"
    }
   ],
   "source": [
    "np.max(akurasic)"
   ]
  },
  {
   "cell_type": "code",
   "execution_count": 66,
   "metadata": {},
   "outputs": [
    {
     "data": {
      "text/plain": [
       "94.15825772704409"
      ]
     },
     "execution_count": 66,
     "metadata": {},
     "output_type": "execute_result"
    }
   ],
   "source": [
    "np.max(f1c)"
   ]
  },
  {
   "cell_type": "code",
   "execution_count": 67,
   "metadata": {},
   "outputs": [
    {
     "name": "stdout",
     "output_type": "stream",
     "text": [
      "100\n",
      "200\n",
      "300\n",
      "400\n",
      "500\n",
      "600\n",
      "700\n",
      "800\n",
      "900\n",
      "1000\n",
      "1100\n",
      "1200\n",
      "1300\n",
      "1400\n",
      "1500\n",
      "1600\n",
      "1700\n",
      "1800\n",
      "1900\n",
      "2000\n",
      "2100\n",
      "2200\n",
      "2300\n",
      "2400\n",
      "2500\n",
      "2600\n",
      "2700\n",
      "2800\n",
      "2900\n",
      "3000\n",
      "3100\n",
      "3200\n",
      "3300\n",
      "3400\n",
      "3500\n",
      "3600\n",
      "3700\n",
      "3800\n",
      "3900\n",
      "4000\n",
      "4100\n",
      "4200\n",
      "4300\n",
      "4400\n",
      "4500\n",
      "4600\n",
      "4700\n",
      "4800\n",
      "4900\n",
      "5000\n",
      "5100\n",
      "5200\n",
      "5300\n",
      "5400\n",
      "5500\n",
      "5600\n",
      "5700\n",
      "5800\n",
      "5900\n",
      "6000\n",
      "6100\n",
      "6200\n",
      "6300\n",
      "6400\n",
      "6500\n",
      "6600\n",
      "6700\n",
      "6800\n",
      "6900\n",
      "7000\n",
      "7100\n",
      "7200\n",
      "7300\n",
      "7400\n",
      "7500\n",
      "7600\n",
      "7700\n",
      "7800\n",
      "7900\n",
      "8000\n",
      "8100\n",
      "8200\n",
      "8300\n",
      "8400\n",
      "8500\n",
      "8600\n",
      "8700\n",
      "8800\n",
      "8900\n",
      "9000\n",
      "9100\n",
      "9200\n",
      "9300\n",
      "9400\n",
      "9500\n",
      "9600\n",
      "9700\n",
      "9800\n",
      "9900\n",
      "10000\n",
      "10100\n",
      "10200\n",
      "10300\n",
      "10400\n",
      "10500\n",
      "10600\n",
      "10700\n",
      "10800\n",
      "10900\n",
      "11000\n",
      "11100\n",
      "11200\n",
      "11300\n",
      "11400\n",
      "11500\n",
      "11600\n",
      "11700\n",
      "11800\n",
      "11900\n",
      "12000\n",
      "12100\n",
      "12200\n",
      "12300\n",
      "12400\n",
      "12500\n",
      "selesai\n",
      "Wall time: 8min 17s\n"
     ]
    }
   ],
   "source": [
    "%%time\n",
    "akurasichi = []\n",
    "f1chi=[]\n",
    "kindexchi =[]\n",
    "K = range(1,12475)\n",
    "for pp in K:\n",
    "    pp*=100\n",
    "    chi = SelectKBest(chi2, k=pp)\n",
    "    chi.fit(X, y)\n",
    "    XCHI = X[:, chi.get_support()]\n",
    "    XCHI.shape\n",
    "    kf.get_n_splits(XCHI)\n",
    "    scoreschi=[]\n",
    "    scoresf1chi=[]\n",
    "    for train_index, test_index in kf.split(XCHI):\n",
    "        X_train, X_test = XCHI[train_index], XCHI[test_index]\n",
    "        y_train, y_test = y[train_index], y[test_index]\n",
    "\n",
    "        xtrain = X_train\n",
    "        xtest = X_test\n",
    "\n",
    "        clf = mnnb.mnnb()\n",
    "        clf.fit(xtrain, y_train)\n",
    "        yp = clf.predict(xtest)\n",
    "        yt = preprocessing.label_ke_numerik(y_test)\n",
    "\n",
    "        scoreschi.append(accuracy_score(yt, yp)*100)\n",
    "        scoresf1chi.append(f1_score(yt,yp)*100)\n",
    "    akurasichi.append(np.mean(scoreschi))\n",
    "    f1chi.append(np.mean(scoresf1chi))\n",
    "    kindexchi.append(pp)\n",
    "    print(pp)\n",
    "    if pp >= 12475:\n",
    "        print(\"selesai\")\n",
    "        break;"
   ]
  },
  {
   "cell_type": "code",
   "execution_count": 68,
   "metadata": {},
   "outputs": [
    {
     "data": {
      "text/plain": [
       "97.51157158910719"
      ]
     },
     "execution_count": 68,
     "metadata": {},
     "output_type": "execute_result"
    }
   ],
   "source": [
    "np.max(akurasichi)"
   ]
  },
  {
   "cell_type": "code",
   "execution_count": 69,
   "metadata": {},
   "outputs": [
    {
     "data": {
      "image/png": "[encoded data removed]",
      "text/plain": [
       "<Figure size 1080x720 with 1 Axes>"
      ]
     },
     "metadata": {
      "needs_background": "light"
     },
     "output_type": "display_data"
    }
   ],
   "source": [
    "plt.figure(figsize=(15,10))\n",
    "plt.plot(kindexa, akurasia,'-ok', label = \"GIT A\", color='red',\n",
    "         markeredgecolor='red',\n",
    "         markerfacecolor='white',) \n",
    "plt.plot(kindexb, akurasib, '-ok', label = \"GIT B\", color='orange',\n",
    "         markeredgecolor='orange',\n",
    "         markerfacecolor='white',\n",
    "         markeredgewidth=2) \n",
    "plt.plot(kindexc, akurasic,'-ok', label = \"GIT C\", color='blue',\n",
    "         markeredgecolor='blue',\n",
    "         markerfacecolor='white',)\n",
    "plt.plot(kindexchi, akurasichi,'-ok', label = \"CHI2\", color='green',\n",
    "         markeredgecolor='green',\n",
    "         markerfacecolor='white',) \n",
    "# naming the x axis \n",
    "plt.xlabel('Fitur')\n",
    "# naming the y axis \n",
    "plt.ylabel('Akurasi') \n",
    "# giving a title to my graph \n",
    "plt.title('Hasil Akurasi 33716 data dengan threshold 0.5') \n",
    "# show a legend on the plot \n",
    "plt.legend()\n",
    "# function to show the plot \n",
    "plt.show() "
   ]
  },
  {
   "cell_type": "code",
   "execution_count": 70,
   "metadata": {},
   "outputs": [
    {
     "data": {
      "image/png": "[encoded data removed]",
      "text/plain": [
       "<Figure size 1080x720 with 1 Axes>"
      ]
     },
     "metadata": {
      "needs_background": "light"
     },
     "output_type": "display_data"
    }
   ],
   "source": [
    "plt.figure(figsize=(15,10))\n",
    "plt.plot(kindexa, f1a,'-ok', label = \"GIT A\", color='pink',markeredgecolor='pink',markerfacecolor='white') \n",
    "plt.plot(kindexb, f1b, '-ok', label = \"GIT B\", color='cyan',markeredgecolor='cyan',markerfacecolor='white') \n",
    "plt.plot(kindexc, f1c,'-ok', label = \"GIT C\", color='crimson',markeredgecolor='crimson',markerfacecolor='white')\n",
    "plt.plot(kindexchi, f1chi,'-ok', label = \"CHI2\", color='gray',markeredgecolor='gray',markerfacecolor='white')\n",
    "# naming the x axis \n",
    "plt.xlabel('Fitur') \n",
    "# naming the y axis \n",
    "plt.ylabel('F1 Score') \n",
    "# giving a title to my graph \n",
    "plt.title('Hasil F1 Score 33716 data dengan threshold 0.5') \n",
    "# show a legend on the plot \n",
    "plt.legend()\n",
    "# function to show the plot \n",
    "plt.show() "
   ]
  },
  {
   "cell_type": "markdown",
   "metadata": {},
   "source": [
    "# Tanpa GIT B"
   ]
  },
  {
   "cell_type": "code",
   "execution_count": 71,
   "metadata": {},
   "outputs": [
    {
     "data": {
      "image/png": "[encoded data removed]",
      "text/plain": [
       "<Figure size 1080x720 with 1 Axes>"
      ]
     },
     "metadata": {
      "needs_background": "light"
     },
     "output_type": "display_data"
    }
   ],
   "source": [
    "plt.figure(figsize=(15,10))\n",
    "plt.plot(kindexa, akurasia,'-ok', label = \"GIT A\", color='red',markeredgecolor='red',markerfacecolor='white') \n",
    "#plt.plot(kindexb, akurasib, '-ok', label = \"GIT B\", color='orange',markeredgecolor='orange',markerfacecolor='white') \n",
    "plt.plot(kindexc, akurasic,'-ok', label = \"GIT C\", color='blue',markeredgecolor='blue',markerfacecolor='white')\n",
    "plt.plot(kindexchi, akurasichi,'-ok', label = \"CHI2\", color='green',markeredgecolor='green',markerfacecolor='white') \n",
    "# naming the x axis \n",
    "plt.xlabel('Fitur')\n",
    "# naming the y axis \n",
    "plt.ylabel('Akurasi') \n",
    "# giving a title to my graph \n",
    "plt.title('Hasil Akurasi 33716 data dengan threshold 0.5') \n",
    "# show a legend on the plot \n",
    "plt.legend()\n",
    "# function to show the plot \n",
    "plt.show() "
   ]
  },
  {
   "cell_type": "code",
   "execution_count": 72,
   "metadata": {},
   "outputs": [
    {
     "data": {
      "image/png": "[encoded data removed]",
      "text/plain": [
       "<Figure size 1080x720 with 1 Axes>"
      ]
     },
     "metadata": {
      "needs_background": "light"
     },
     "output_type": "display_data"
    }
   ],
   "source": [
    "plt.figure(figsize=(15,10))\n",
    "plt.plot(kindexa, f1a,'-ok', label = \"GIT A\", color='pink',markeredgecolor='pink',markerfacecolor='white') \n",
    "#plt.plot(kindexb, f1b, '-ok', label = \"GIT B\", color='cyan',markeredgecolor='cyan',markerfacecolor='white') \n",
    "plt.plot(kindexc, f1c,'-ok', label = \"GIT C\", color='crimson',markeredgecolor='crimson',markerfacecolor='white')\n",
    "plt.plot(kindexchi, f1chi,'-ok', label = \"CHI2\", color='gray',markeredgecolor='gray',markerfacecolor='white')\n",
    "# naming the x axis \n",
    "plt.xlabel('Fitur') \n",
    "# naming the y axis \n",
    "plt.ylabel('F1 Score') \n",
    "# giving a title to my graph \n",
    "plt.title('Hasil F1 Score 33716 data dengan threshold 0.5') \n",
    "# show a legend on the plot \n",
    "plt.legend()\n",
    "# function to show the plot \n",
    "plt.show() "
   ]
  },
  {
   "cell_type": "code",
   "execution_count": null,
   "metadata": {},
   "outputs": [],
   "source": []
  },
  {
   "cell_type": "code",
   "execution_count": null,
   "metadata": {},
   "outputs": [],
   "source": []
  }
 ],
 "metadata": {
  "kernelspec": {
   "display_name": "Python 3",
   "language": "python",
   "name": "python3"
  },
  "language_info": {
   "codemirror_mode": {
    "name": "ipython",
    "version": 3
   },
   "file_extension": ".py",
   "mimetype": "text/x-python",
   "name": "python",
   "nbconvert_exporter": "python",
   "pygments_lexer": "ipython3",
   "version": "3.8.8"
  }
 },
 "nbformat": 4,
 "nbformat_minor": 4
}
